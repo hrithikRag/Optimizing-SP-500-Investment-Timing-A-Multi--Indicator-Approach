{
 "cells": [
  {
   "cell_type": "code",
   "execution_count": 1,
   "id": "2c05b35d",
   "metadata": {
    "scrolled": true
   },
   "outputs": [],
   "source": [
    "# Reading the indicators data which was saved as csv file in notebook2\n",
    "Indicators_data<- read.csv('C:/Users/hrith/OneDrive/Documents/RESUME_PROJECTS_COPY/SSGA_internship_assignment/Assignment_1/Indicators_data.csv')\n",
    "Indicators_data$date <- as.Date(Indicators_data$date)"
   ]
  },
  {
   "cell_type": "code",
   "execution_count": 2,
   "id": "d633b524",
   "metadata": {},
   "outputs": [
    {
     "name": "stderr",
     "output_type": "stream",
     "text": [
      "\n",
      "Attaching package: 'dplyr'\n",
      "\n",
      "The following objects are masked from 'package:stats':\n",
      "\n",
      "    filter, lag\n",
      "\n",
      "The following objects are masked from 'package:base':\n",
      "\n",
      "    intersect, setdiff, setequal, union\n",
      "\n",
      "Registered S3 methods overwritten by 'ggplot2':\n",
      "  method         from \n",
      "  [.quosures     rlang\n",
      "  c.quosures     rlang\n",
      "  print.quosures rlang\n",
      "\n",
      "Attaching package: 'zoo'\n",
      "\n",
      "The following objects are masked from 'package:base':\n",
      "\n",
      "    as.Date, as.Date.numeric\n",
      "\n",
      "\n",
      "Attaching package: 'lubridate'\n",
      "\n",
      "The following object is masked from 'package:base':\n",
      "\n",
      "    date\n",
      "\n",
      "Registered S3 method overwritten by 'xts':\n",
      "  method     from\n",
      "  as.zoo.xts zoo \n",
      "\n",
      "Attaching package: 'xts'\n",
      "\n",
      "The following objects are masked from 'package:dplyr':\n",
      "\n",
      "    first, last\n",
      "\n",
      "Warning message:\n",
      "\"package 'PerformanceAnalytics' was built under R version 3.6.3\"\n",
      "Attaching package: 'PerformanceAnalytics'\n",
      "\n",
      "The following object is masked from 'package:graphics':\n",
      "\n",
      "    legend\n",
      "\n",
      "Loading required package: TTR\n",
      "Registered S3 method overwritten by 'quantmod':\n",
      "  method            from\n",
      "  as.zoo.data.frame zoo \n",
      "Version 0.4-0 included new data defaults. See ?getSymbols.\n"
     ]
    }
   ],
   "source": [
    "# Importing necessary libraries\n",
    "library(dplyr)\n",
    "library(ggplot2)\n",
    "library(zoo)\n",
    "library(lubridate)\n",
    "library(xts)\n",
    "library(PerformanceAnalytics)\n",
    "library(quantmod)"
   ]
  },
  {
   "cell_type": "markdown",
   "id": "703fc218",
   "metadata": {},
   "source": [
    "#Strategy_a : Will check the yearly change of each indicator (except for NAI, we will directly check its value) in the current month and invest in the next month if atleast 3 of them are in the support of investing (majority)."
   ]
  },
  {
   "cell_type": "code",
   "execution_count": 3,
   "id": "bc270e56",
   "metadata": {},
   "outputs": [],
   "source": [
    "# making a separate dataframe of indicators which are required for implementing this strategy"
   ]
  },
  {
   "cell_type": "code",
   "execution_count": 4,
   "id": "c5fec9d2",
   "metadata": {},
   "outputs": [],
   "source": [
    "# indicator_1 -> NAI\n",
    "\n",
    "# indicator_2a -> monthly change in yearly inflation\n",
    "# indicator_2b -> (6m_ma - 24m_ma) of yearly inflation\n",
    "\n",
    "# indicator_3a -> yearly difference of US dolar index in current month\n",
    "# indicator_3b -> (3m_ma - 12m_ma) of US dolar index\n",
    "\n",
    "# indicator_4a -> yearly difference of t_bills_2Y_yield in current month\n",
    "# indicator_4b -> (6m_ma - 24m_ma) of t_bills_2Y_yield\n",
    "\n",
    "# indicator_5a -> yearly difference of credit_spread_monthly in current month\n",
    "# indicator_5b -> (3m_ma - 12m_ma) of credit_spread_monthly"
   ]
  },
  {
   "cell_type": "code",
   "execution_count": 5,
   "id": "3237a6f4",
   "metadata": {},
   "outputs": [],
   "source": [
    "selected_columns <- Indicators_data[, c(\"date\" , \"indicator_1\", \"indicator_2a\", \"indicator_3a\" , \"indicator_4a\" , \"indicator_5a\" )]\n",
    "Indicators_data_selected_a <- data.frame(selected_columns)"
   ]
  },
  {
   "cell_type": "code",
   "execution_count": 6,
   "id": "953b5377",
   "metadata": {},
   "outputs": [
    {
     "name": "stdout",
     "output_type": "stream",
     "text": [
      " initial rows of selected indicators for this strategy : \n"
     ]
    },
    {
     "data": {
      "text/html": [
       "<table>\n",
       "<thead><tr><th scope=col>date</th><th scope=col>indicator_1</th><th scope=col>indicator_2a</th><th scope=col>indicator_3a</th><th scope=col>indicator_4a</th><th scope=col>indicator_5a</th></tr></thead>\n",
       "<tbody>\n",
       "\t<tr><td>2007-02-01 </td><td>-0.48      </td><td>-0.44821261</td><td>-2.1662    </td><td> 0.48      </td><td>-0.7853557 </td></tr>\n",
       "\t<tr><td>2007-03-01 </td><td> 0.19      </td><td> 0.34449560</td><td>-2.7348    </td><td> 0.18      </td><td>-0.7145000 </td></tr>\n",
       "\t<tr><td>2007-04-01 </td><td> 0.23      </td><td> 0.37793651</td><td>-3.4163    </td><td>-0.16      </td><td>-0.3917391 </td></tr>\n",
       "\t<tr><td>2007-05-01 </td><td>-0.11      </td><td>-0.20527253</td><td>-4.1113    </td><td>-0.22      </td><td>-0.3180952 </td></tr>\n",
       "\t<tr><td>2007-06-01 </td><td> 0.03      </td><td> 0.11696098</td><td>-2.7893    </td><td>-0.20      </td><td>-0.4526087 </td></tr>\n",
       "\t<tr><td>2007-07-01 </td><td>-0.05      </td><td>-0.01712063</td><td>-4.2478    </td><td>-0.14      </td><td>-0.6681818 </td></tr>\n",
       "</tbody>\n",
       "</table>\n"
      ],
      "text/latex": [
       "\\begin{tabular}{r|llllll}\n",
       " date & indicator\\_1 & indicator\\_2a & indicator\\_3a & indicator\\_4a & indicator\\_5a\\\\\n",
       "\\hline\n",
       "\t 2007-02-01  & -0.48       & -0.44821261 & -2.1662     &  0.48       & -0.7853557 \\\\\n",
       "\t 2007-03-01  &  0.19       &  0.34449560 & -2.7348     &  0.18       & -0.7145000 \\\\\n",
       "\t 2007-04-01  &  0.23       &  0.37793651 & -3.4163     & -0.16       & -0.3917391 \\\\\n",
       "\t 2007-05-01  & -0.11       & -0.20527253 & -4.1113     & -0.22       & -0.3180952 \\\\\n",
       "\t 2007-06-01  &  0.03       &  0.11696098 & -2.7893     & -0.20       & -0.4526087 \\\\\n",
       "\t 2007-07-01  & -0.05       & -0.01712063 & -4.2478     & -0.14       & -0.6681818 \\\\\n",
       "\\end{tabular}\n"
      ],
      "text/markdown": [
       "\n",
       "| date | indicator_1 | indicator_2a | indicator_3a | indicator_4a | indicator_5a |\n",
       "|---|---|---|---|---|---|\n",
       "| 2007-02-01  | -0.48       | -0.44821261 | -2.1662     |  0.48       | -0.7853557  |\n",
       "| 2007-03-01  |  0.19       |  0.34449560 | -2.7348     |  0.18       | -0.7145000  |\n",
       "| 2007-04-01  |  0.23       |  0.37793651 | -3.4163     | -0.16       | -0.3917391  |\n",
       "| 2007-05-01  | -0.11       | -0.20527253 | -4.1113     | -0.22       | -0.3180952  |\n",
       "| 2007-06-01  |  0.03       |  0.11696098 | -2.7893     | -0.20       | -0.4526087  |\n",
       "| 2007-07-01  | -0.05       | -0.01712063 | -4.2478     | -0.14       | -0.6681818  |\n",
       "\n"
      ],
      "text/plain": [
       "  date       indicator_1 indicator_2a indicator_3a indicator_4a indicator_5a\n",
       "1 2007-02-01 -0.48       -0.44821261  -2.1662       0.48        -0.7853557  \n",
       "2 2007-03-01  0.19        0.34449560  -2.7348       0.18        -0.7145000  \n",
       "3 2007-04-01  0.23        0.37793651  -3.4163      -0.16        -0.3917391  \n",
       "4 2007-05-01 -0.11       -0.20527253  -4.1113      -0.22        -0.3180952  \n",
       "5 2007-06-01  0.03        0.11696098  -2.7893      -0.20        -0.4526087  \n",
       "6 2007-07-01 -0.05       -0.01712063  -4.2478      -0.14        -0.6681818  "
      ]
     },
     "metadata": {},
     "output_type": "display_data"
    }
   ],
   "source": [
    "cat(\" initial rows of selected indicators for this strategy :\", \"\\n\")\n",
    "head(Indicators_data_selected_a)"
   ]
  },
  {
   "cell_type": "code",
   "execution_count": 7,
   "id": "d4629124",
   "metadata": {},
   "outputs": [],
   "source": [
    "# Since we are only using the signs of indicators for our decision (and not the magnitude, which also a drawback of these \n",
    "# strategies), it would be convenient if we flipped the sign of indicators such that we can make the following statement:\n",
    "# invest in the next month if atleast 3 indicators have positive sign in current month.\n",
    "\n",
    "# This is implemented below:\n",
    "\n",
    "Indicators_data_selected_a$indicator_2a <- -Indicators_data_selected_a$indicator_2a\n",
    "Indicators_data_selected_a$indicator_3a <- -Indicators_data_selected_a$indicator_3a\n",
    "Indicators_data_selected_a$indicator_4a <- -Indicators_data_selected_a$indicator_4a\n",
    "Indicators_data_selected_a$indicator_5a <- -Indicators_data_selected_a$indicator_5a"
   ]
  },
  {
   "cell_type": "code",
   "execution_count": 8,
   "id": "77a4e1bc",
   "metadata": {},
   "outputs": [
    {
     "name": "stdout",
     "output_type": "stream",
     "text": [
      "monthly investment decisions of this strategy : \n",
      "  [1] 0 1 1 1 1 1 1 1 1 0 0 0 1 0 1 1 1 0 0 0 1 1 0 0 0 0 0 0 0 0 0 1 0 0 1 1 0\n",
      " [38] 1 1 1 1 1 1 1 1 1 1 1 1 1 1 1 1 1 1 1 0 0 1 0 1 1 0 0 1 0 0 0 0 0 0 1 1 1\n",
      " [75] 1 1 1 1 0 0 1 1 0 0 0 0 1 0 0 0 1 1 0 1 1 0 0 0 0 0 0 0 0 0 0 0 0 0 0 0 0\n",
      "[112] 0 0 0 0 0 0 0 0 0 0 0 0 0 1 0 1 0 0 1 1 1 1 0 1 1 1 0 0 0 1 0 0 0 0 0 0 0\n",
      "[149] 0 1 1 0 1 0 0 0 1 0 1 0 0 1 0 0 1 1 1 1 1 1 1 1 1 1 1 1 1 1 1 0 0 0 0 0 0\n",
      "[186] 0 0 0 0 0 0 0 0 0 0 0 0 0 1 1\n"
     ]
    }
   ],
   "source": [
    "# Defining the minimum number of positive indicators required to invest\n",
    "min_positive_indicators = 3\n",
    "\n",
    "# Calculating the binary vector for investment decisions (0 means don't invest and 1 means invest)\n",
    "\n",
    "investment_strategy_a <- Indicators_data_selected_a %>%\n",
    "  mutate(positive_indicators = rowSums(select(., starts_with(\"indicator\")) > 0)) %>%\n",
    "  mutate(invest = ifelse(positive_indicators >= min_positive_indicators, 1, 0)) %>%\n",
    "  pull(invest)\n",
    "\n",
    "# Inserting 0 in the front, so that length is same as the return vector and it means that we are not investing in 2007/01/01\n",
    "# which is becauce we have indicators data from 2007/01/01, hence we can only start investing from 2007/02/01\n",
    "investment_strategy_a <- c(0, investment_strategy_a)\n",
    "\n",
    "# Printing the binary vector\n",
    "cat(\"monthly investment decisions of this strategy :\", \"\\n\")\n",
    "print(investment_strategy_a)"
   ]
  },
  {
   "cell_type": "code",
   "execution_count": 9,
   "id": "9e0669bf",
   "metadata": {},
   "outputs": [
    {
     "name": "stdout",
     "output_type": "stream",
     "text": [
      " initial rows of sp_500_a : \n"
     ]
    },
    {
     "data": {
      "text/html": [
       "<table>\n",
       "<thead><tr><th scope=col>Date</th><th scope=col>Open</th><th scope=col>High</th><th scope=col>Low</th><th scope=col>Close</th><th scope=col>Adj.Close</th><th scope=col>Volume</th></tr></thead>\n",
       "<tbody>\n",
       "\t<tr><td>2007-01-01 </td><td>1418.03    </td><td>1441.61    </td><td>1403.97    </td><td>1438.24    </td><td>1438.24    </td><td>56686200000</td></tr>\n",
       "\t<tr><td>2007-02-01 </td><td>1437.90    </td><td>1461.57    </td><td>1389.42    </td><td>1406.82    </td><td>1406.82    </td><td>51844990000</td></tr>\n",
       "\t<tr><td>2007-03-01 </td><td>1406.80    </td><td>1438.89    </td><td>1363.98    </td><td>1420.86    </td><td>1420.86    </td><td>67622250000</td></tr>\n",
       "\t<tr><td>2007-04-01 </td><td>1420.83    </td><td>1498.02    </td><td>1416.37    </td><td>1482.37    </td><td>1482.37    </td><td>57032470000</td></tr>\n",
       "\t<tr><td>2007-05-01 </td><td>1482.37    </td><td>1535.56    </td><td>1476.70    </td><td>1530.62    </td><td>1530.62    </td><td>64958050000</td></tr>\n",
       "\t<tr><td>2007-06-01 </td><td>1530.62    </td><td>1540.56    </td><td>1484.18    </td><td>1503.35    </td><td>1503.35    </td><td>65322800000</td></tr>\n",
       "</tbody>\n",
       "</table>\n"
      ],
      "text/latex": [
       "\\begin{tabular}{r|lllllll}\n",
       " Date & Open & High & Low & Close & Adj.Close & Volume\\\\\n",
       "\\hline\n",
       "\t 2007-01-01  & 1418.03     & 1441.61     & 1403.97     & 1438.24     & 1438.24     & 56686200000\\\\\n",
       "\t 2007-02-01  & 1437.90     & 1461.57     & 1389.42     & 1406.82     & 1406.82     & 51844990000\\\\\n",
       "\t 2007-03-01  & 1406.80     & 1438.89     & 1363.98     & 1420.86     & 1420.86     & 67622250000\\\\\n",
       "\t 2007-04-01  & 1420.83     & 1498.02     & 1416.37     & 1482.37     & 1482.37     & 57032470000\\\\\n",
       "\t 2007-05-01  & 1482.37     & 1535.56     & 1476.70     & 1530.62     & 1530.62     & 64958050000\\\\\n",
       "\t 2007-06-01  & 1530.62     & 1540.56     & 1484.18     & 1503.35     & 1503.35     & 65322800000\\\\\n",
       "\\end{tabular}\n"
      ],
      "text/markdown": [
       "\n",
       "| Date | Open | High | Low | Close | Adj.Close | Volume |\n",
       "|---|---|---|---|---|---|---|\n",
       "| 2007-01-01  | 1418.03     | 1441.61     | 1403.97     | 1438.24     | 1438.24     | 56686200000 |\n",
       "| 2007-02-01  | 1437.90     | 1461.57     | 1389.42     | 1406.82     | 1406.82     | 51844990000 |\n",
       "| 2007-03-01  | 1406.80     | 1438.89     | 1363.98     | 1420.86     | 1420.86     | 67622250000 |\n",
       "| 2007-04-01  | 1420.83     | 1498.02     | 1416.37     | 1482.37     | 1482.37     | 57032470000 |\n",
       "| 2007-05-01  | 1482.37     | 1535.56     | 1476.70     | 1530.62     | 1530.62     | 64958050000 |\n",
       "| 2007-06-01  | 1530.62     | 1540.56     | 1484.18     | 1503.35     | 1503.35     | 65322800000 |\n",
       "\n"
      ],
      "text/plain": [
       "  Date       Open    High    Low     Close   Adj.Close Volume     \n",
       "1 2007-01-01 1418.03 1441.61 1403.97 1438.24 1438.24   56686200000\n",
       "2 2007-02-01 1437.90 1461.57 1389.42 1406.82 1406.82   51844990000\n",
       "3 2007-03-01 1406.80 1438.89 1363.98 1420.86 1420.86   67622250000\n",
       "4 2007-04-01 1420.83 1498.02 1416.37 1482.37 1482.37   57032470000\n",
       "5 2007-05-01 1482.37 1535.56 1476.70 1530.62 1530.62   64958050000\n",
       "6 2007-06-01 1530.62 1540.56 1484.18 1503.35 1503.35   65322800000"
      ]
     },
     "metadata": {},
     "output_type": "display_data"
    }
   ],
   "source": [
    "#making s&p 500 dataframe which has monthly values from 2007-01-01 to 2023-08-01 , will use this to calculate monthly returns\n",
    "sp_500_a <- read.csv('C:/Users/hrith/OneDrive/Documents/RESUME_PROJECTS_COPY/SSGA_internship_assignment/Assignment_1/s&p_500_a.csv')\n",
    "\n",
    "cat(\" initial rows of sp_500_a :\", \"\\n\")\n",
    "head(sp_500_a)"
   ]
  },
  {
   "cell_type": "code",
   "execution_count": 10,
   "id": "ed3bdc3e",
   "metadata": {},
   "outputs": [
    {
     "name": "stdout",
     "output_type": "stream",
     "text": [
      "monthly returs of this strategy : \n"
     ]
    },
    {
     "data": {
      "text/plain": [
       "                    [,1]\n",
       "2007-01-01            NA\n",
       "2007-02-01  0.0140123937\n",
       "2007-03-01 -0.0216287468\n",
       "2007-04-01  0.0099729220\n",
       "2007-05-01  0.0433127404\n",
       "2007-06-01  0.0325492287\n",
       "2007-07-01 -0.0169604219\n",
       "2007-08-01 -0.0328844917\n",
       "2007-09-01  0.0129055557\n",
       "2007-10-01  0.0000000000\n",
       "2007-11-01  0.0000000000\n",
       "2007-12-01  0.0000000000\n",
       "2008-01-01 -0.0078803715\n",
       "2008-02-01  0.0000000000\n",
       "2008-03-01 -0.0349267556\n",
       "2008-04-01 -0.0030365043\n",
       "2008-05-01  0.0449031106\n",
       "2008-06-01  0.0000000000\n",
       "2008-07-01  0.0000000000\n",
       "2008-08-01  0.0000000000\n",
       "2008-09-01  0.0145026165\n",
       "2008-10-01 -0.0960219255\n",
       "2008-11-01  0.0000000000\n",
       "2008-12-01  0.0000000000\n",
       "2009-01-01  0.0000000000\n",
       "2009-02-01  0.0000000000\n",
       "2009-03-01  0.0000000000\n",
       "2009-04-01  0.0000000000\n",
       "2009-05-01  0.0000000000\n",
       "2009-06-01  0.0000000000\n",
       "2009-07-01  0.0000000000\n",
       "2009-08-01  0.0753675668\n",
       "2009-09-01  0.0000000000\n",
       "2009-10-01  0.0000000000\n",
       "2009-11-01 -0.0177550501\n",
       "2009-12-01  0.0605203321\n",
       "2010-01-01  0.0000000000\n",
       "2010-02-01 -0.0382156281\n",
       "2010-03-01  0.0293046497\n",
       "2010-04-01  0.0595914417\n",
       "2010-05-01  0.0148134661\n",
       "2010-06-01 -0.0852108491\n",
       "2010-07-01 -0.0516877317\n",
       "2010-08-01  0.0741247750\n",
       "2010-09-01 -0.0521972832\n",
       "2010-10-01  0.0893286040\n",
       "2010-11-01  0.0369220291\n",
       "2010-12-01  0.0007506175\n",
       "2011-01-01  0.0598516948\n",
       "2011-02-01  0.0250632303\n",
       "2011-03-01  0.0306405817\n",
       "2011-04-01  0.0006321997\n",
       "2011-05-01  0.0268751549\n",
       "2011-06-01 -0.0146570933\n",
       "2011-07-01 -0.0182574617\n",
       "2011-08-01 -0.0212397387\n",
       "2011-09-01  0.0000000000\n",
       "2011-10-01  0.0000000000\n",
       "2011-11-01  0.1058954953\n",
       "2011-12-01  0.0000000000\n",
       "2012-01-01  0.0095836515\n",
       "2012-02-01  0.0425702353\n",
       "2012-03-01  0.0000000000\n",
       "2012-04-01  0.0000000000\n",
       "2012-05-01 -0.0075329866\n",
       "2012-06-01  0.0000000000\n",
       "2012-07-01  0.0000000000\n",
       "2012-08-01  0.0000000000\n",
       "2012-09-01  0.0000000000\n",
       "2012-10-01  0.0000000000\n",
       "2012-11-01  0.0000000000\n",
       "2012-12-01  0.0029316066\n",
       "2013-01-01  0.0069545277\n",
       "2013-02-01  0.0504280965\n",
       "2013-03-01  0.0110606488\n",
       "2013-04-01  0.0359811961\n",
       "2013-05-01  0.0180795028\n",
       "2013-06-01  0.0213826867\n",
       "2013-07-01  0.0000000000\n",
       "2013-08-01  0.0000000000\n",
       "2013-09-01 -0.0316499694\n",
       "2013-10-01  0.0283994525\n",
       "2013-11-01  0.0000000000\n",
       "2013-12-01  0.0000000000\n",
       "2014-01-01  0.0000000000\n",
       "2014-02-01  0.0000000000\n",
       "2014-03-01  0.0420714866\n",
       "2014-04-01  0.0000000000\n",
       "2014-05-01  0.0000000000\n",
       "2014-06-01  0.0000000000\n",
       "2014-07-01  0.0199701872\n",
       "2014-08-01 -0.0165571804\n",
       "2014-09-01  0.0000000000\n",
       "2014-10-01 -0.0162818693\n",
       "2014-11-01  0.0237237861\n",
       "2014-12-01  0.0000000000\n",
       "2015-01-01  0.0000000000\n",
       "2015-02-01  0.0000000000\n",
       "2015-03-01  0.0000000000\n",
       "2015-04-01  0.0000000000\n",
       "2015-05-01  0.0000000000\n",
       "2015-06-01  0.0000000000\n",
       "2015-07-01  0.0000000000\n",
       "2015-08-01  0.0000000000\n",
       "2015-09-01  0.0000000000\n",
       "2015-10-01  0.0000000000\n",
       "2015-11-01  0.0000000000\n",
       "2015-12-01  0.0000000000\n",
       "2016-01-01  0.0000000000\n",
       "2016-02-01  0.0000000000\n",
       "2016-03-01  0.0000000000\n",
       "2016-04-01  0.0000000000\n",
       "2016-05-01  0.0000000000\n",
       "2016-06-01  0.0000000000\n",
       "2016-07-01  0.0000000000\n",
       "2016-08-01  0.0000000000\n",
       "2016-09-01  0.0000000000\n",
       "2016-10-01  0.0000000000\n",
       "2016-11-01  0.0000000000\n",
       "2016-12-01  0.0000000000\n",
       "2017-01-01  0.0000000000\n",
       "2017-02-01  0.0000000000\n",
       "2017-03-01  0.0000000000\n",
       "2017-04-01  0.0000000000\n",
       "2017-05-01  0.0110737282\n",
       "2017-06-01  0.0000000000\n",
       "2017-07-01  0.0065158408\n",
       "2017-08-01  0.0000000000\n",
       "2017-09-01  0.0000000000\n",
       "2017-10-01  0.0189054529\n",
       "2017-11-01  0.0245954351\n",
       "2017-12-01  0.0239586165\n",
       "2018-01-01  0.0146043179\n",
       "2018-02-01  0.0000000000\n",
       "2018-03-01 -0.0359424035\n",
       "2018-04-01 -0.0301154309\n",
       "2018-05-01  0.0036112362\n",
       "2018-06-01  0.0000000000\n",
       "2018-07-01  0.0000000000\n",
       "2018-08-01  0.0000000000\n",
       "2018-09-01  0.0268647551\n",
       "2018-10-01  0.0000000000\n",
       "2018-11-01  0.0000000000\n",
       "2018-12-01  0.0000000000\n",
       "2019-01-01  0.0000000000\n",
       "2019-02-01  0.0000000000\n",
       "2019-03-01  0.0000000000\n",
       "2019-04-01  0.0000000000\n",
       "2019-05-01  0.0000000000\n",
       "2019-06-01 -0.0680140918\n",
       "2019-07-01  0.0799118601\n",
       "2019-08-01  0.0000000000\n",
       "2019-09-01 -0.0239269800\n",
       "2019-10-01  0.0000000000\n",
       "2019-11-01  0.0000000000\n",
       "2019-12-01  0.0000000000\n",
       "2020-01-01  0.0320689031\n",
       "2020-02-01  0.0000000000\n",
       "2020-03-01 -0.0807810122\n",
       "2020-04-01  0.0000000000\n",
       "2020-05-01  0.0000000000\n",
       "2020-06-01  0.0591441663\n",
       "2020-07-01  0.0000000000\n",
       "2020-08-01  0.0000000000\n",
       "2020-09-01  0.0666552922\n",
       "2020-10-01 -0.0346605576\n",
       "2020-11-01 -0.0264836402\n",
       "2020-12-01  0.1060828139\n",
       "2021-01-01  0.0325683544\n",
       "2021-02-01 -0.0088827753\n",
       "2021-03-01  0.0298405300\n",
       "2021-04-01  0.0391072552\n",
       "2021-05-01  0.0498900389\n",
       "2021-06-01  0.0058540449\n",
       "2021-07-01  0.0199714363\n",
       "2021-08-01  0.0246771788\n",
       "2021-09-01  0.0276704831\n",
       "2021-10-01 -0.0467319505\n",
       "2021-11-01  0.0679752315\n",
       "2021-12-01  0.0000000000\n",
       "2022-01-01  0.0000000000\n",
       "2022-02-01  0.0000000000\n",
       "2022-03-01  0.0000000000\n",
       "2022-04-01  0.0000000000\n",
       "2022-05-01  0.0000000000\n",
       "2022-06-01  0.0000000000\n",
       "2022-07-01  0.0000000000\n",
       "2022-08-01  0.0000000000\n",
       "2022-09-01  0.0000000000\n",
       "2022-10-01  0.0000000000\n",
       "2022-11-01  0.0000000000\n",
       "2022-12-01  0.0000000000\n",
       "2023-01-01  0.0000000000\n",
       "2023-02-01  0.0000000000\n",
       "2023-03-01  0.0000000000\n",
       "2023-04-01  0.0000000000\n",
       "2023-05-01  0.0000000000\n",
       "2023-06-01  0.0000000000\n",
       "2023-07-01  0.0639369570\n",
       "2023-08-01  0.0288396079"
      ]
     },
     "metadata": {},
     "output_type": "display_data"
    }
   ],
   "source": [
    "# calculating monthly returns of strategy_a\n",
    "strategy_returns_a <- investment_strategy_a * c(0, diff(sp_500_a$Open)) / lag(sp_500_a$Open)\n",
    "\n",
    "# Converting the date column to a Date format\n",
    "sp_500_a$Date <- as.Date(sp_500_a$Date)\n",
    "\n",
    "# Creating an xts time series object\n",
    "strategy_returns_a <- xts(strategy_returns_a, order.by = sp_500_a$Date)\n",
    "\n",
    "#printing the monthly returns\n",
    "cat(\"monthly returs of this strategy :\", \"\\n\")\n",
    "strategy_returns_a"
   ]
  },
  {
   "cell_type": "code",
   "execution_count": 11,
   "id": "da1b635f",
   "metadata": {},
   "outputs": [],
   "source": [
    "# Creating a function to calculate performance parameters:\n",
    "\n",
    "calculate_performance_parameters <- function(strategy_returns, risk_free_rate) {\n",
    "  \n",
    "  # Max drawdown\n",
    "  temp1 <- na.omit(strategy_returns)   #omitting NA to avoid bias in the calculation of Annualized returns\n",
    "  cumulative_returns <- cumprod(1 + temp1)\n",
    "  max_cumulative_returns <- cummax(cumulative_returns)  \n",
    "  drawdown <- cumulative_returns - max_cumulative_returns\n",
    "  max_drawdown <- -min(drawdown)\n",
    "    \n",
    "    \n",
    "  # Annualized returns\n",
    "  cumulative_return <- prod(1 + temp1)\n",
    "  total_trading_days <- length(temp1)\n",
    "  trading_years <- total_trading_days / 12\n",
    "  annualized_return <- ((cumulative_return ^ (1 / trading_years)) - 1) * 100\n",
    "  \n",
    "  # Annualized risk\n",
    "  temp2 <- na.omit(strategy_returns)\n",
    "  annualized_risk <- sd(temp2) * sqrt(12)\n",
    "  \n",
    "  # Sharpe ratio\n",
    "  sharpe_ratio <- (annualized_return-risk_free_rate) / (annualized_risk*100)\n",
    "  \n",
    "  # Creating a list to store the results\n",
    "  performance_parameters <- list(\n",
    "    Max_Drawdown = max_drawdown,\n",
    "    Cumulative_Return = cumulative_return * 100,\n",
    "    Annualized_Return = annualized_return,\n",
    "    Annualized_Risk = annualized_risk,\n",
    "    Sharpe_Ratio = sharpe_ratio\n",
    "  )\n",
    "  \n",
    "  return(performance_parameters)\n",
    "}"
   ]
  },
  {
   "cell_type": "code",
   "execution_count": 12,
   "id": "a1c39ac8",
   "metadata": {},
   "outputs": [
    {
     "name": "stdout",
     "output_type": "stream",
     "text": [
      "performance parameters of strategy_a : \n",
      "$Max_Drawdown\n",
      "[1] 0.1941106\n",
      "\n",
      "$Cumulative_Return\n",
      "[1] 278.0109\n",
      "\n",
      "$Annualized_Return\n",
      "[1] 6.359821\n",
      "\n",
      "$Annualized_Risk\n",
      "[1] 0.09526185\n",
      "\n",
      "$Sharpe_Ratio\n",
      "[1] 0.6676147\n",
      "\n"
     ]
    }
   ],
   "source": [
    "#calculating the performance parameters\n",
    "risk_free_rate <- 0    #as per the assumptions of assignment\n",
    "performance_params_a <- calculate_performance_parameters(strategy_returns_a,risk_free_rate)\n",
    "\n",
    "# Printing the results\n",
    "cat(\"performance parameters of strategy_a :\", \"\\n\")\n",
    "print(performance_params_a)"
   ]
  },
  {
   "cell_type": "code",
   "execution_count": 13,
   "id": "9741cfb4",
   "metadata": {},
   "outputs": [
    {
     "data": {
      "image/png": "[encoded data removed]",
      "text/plain": [
       "plot without title"
      ]
     },
     "metadata": {},
     "output_type": "display_data"
    },
    {
     "data": {
      "text/html": [
       "-0.194110577850021"
      ],
      "text/latex": [
       "-0.194110577850021"
      ],
      "text/markdown": [
       "-0.194110577850021"
      ],
      "text/plain": [
       "[1] -0.1941106"
      ]
     },
     "metadata": {},
     "output_type": "display_data"
    },
    {
     "data": {
      "image/png": "[encoded data removed]",
      "text/plain": [
       "Plot with title \"Monthly Returns of strategy_a\""
      ]
     },
     "metadata": {},
     "output_type": "display_data"
    },
    {
     "data": {
      "image/png": "[encoded data removed]",
      "text/plain": [
       "Plot with title \"Monthly Drawdown for Strategy_a\""
      ]
     },
     "metadata": {},
     "output_type": "display_data"
    }
   ],
   "source": [
    "# plotting the commulative returns, monthly returns and drawdowns for strategy_a\n",
    "\n",
    "strategy_returns_a[is.na(strategy_returns_a)] <- 0    #replacing initial NA by 0 to avoid plotting errors\n",
    "\n",
    "#1.commulative returns\n",
    "cumulative_returns_aa <- cumprod(1 + strategy_returns_a)\n",
    "plot(cumulative_returns_aa, type = \"l\", col = \"blue\", xlab = \"Date\", ylab = \"Value\", main = \"Commulative Returns of strategy_a\")\n",
    "\n",
    "#2.monthly returns\n",
    "barplot(strategy_returns_a, col = \"blue\", \n",
    "        xlab = \"Month\", ylab = \"Monthly Returns\", \n",
    "        main = \"Monthly Returns of strategy_a\")\n",
    "\n",
    "#3. Calculating maximum cumulative returns up to each month\n",
    "max_cumulative_returns_aa <- cummax(cumulative_returns_aa)\n",
    "\n",
    "# Calculating drawdown as the difference between cumulative returns and max cumulative returns\n",
    "drawdown_aa <- cumulative_returns_aa - max_cumulative_returns_aa\n",
    "max_drawdown_aa <- min(drawdown_aa)\n",
    "max_drawdown_aa\n",
    "\n",
    "# Creating a sequence of months for plotting\n",
    "months <- seq(from = 1, to = length(drawdown_aa), by = 1)\n",
    "\n",
    "# Plotting the drawdown for strategy_a\n",
    "plot(months, drawdown_aa, type = \"l\", col = \"blue\",\n",
    "     xlab = \"Month\", ylab = \"Drawdown\",\n",
    "     main = \"Monthly Drawdown for Strategy_a\", xaxt = \"n\")"
   ]
  },
  {
   "cell_type": "markdown",
   "id": "7f400571",
   "metadata": {},
   "source": [
    "#Strategy_b : will check the difference between moving avg of two windows of each indicator (except for NAI, we will directly check its value)in the current month and invest in the next month if atleast 3 of them supports the investing decision (majority)"
   ]
  },
  {
   "cell_type": "code",
   "execution_count": 14,
   "id": "5fcc113b",
   "metadata": {},
   "outputs": [],
   "source": [
    "# making a separate dataframe of indicators which are required for implementing this strategy"
   ]
  },
  {
   "cell_type": "code",
   "execution_count": 15,
   "id": "849504f5",
   "metadata": {},
   "outputs": [],
   "source": [
    "selected_columns <- Indicators_data[, c(\"date\" , \"indicator_1\", \"indicator_2b\", \"indicator_3b\" , \"indicator_4b\" , \"indicator_5b\" )]\n",
    "Indicators_data_selected_b <- data.frame(selected_columns)"
   ]
  },
  {
   "cell_type": "code",
   "execution_count": 16,
   "id": "52e21e89",
   "metadata": {},
   "outputs": [
    {
     "name": "stdout",
     "output_type": "stream",
     "text": [
      " initial rows of selected indicators for this strategy : \n"
     ]
    },
    {
     "data": {
      "text/html": [
       "<table>\n",
       "<thead><tr><th scope=col>date</th><th scope=col>indicator_1</th><th scope=col>indicator_2b</th><th scope=col>indicator_3b</th><th scope=col>indicator_4b</th><th scope=col>indicator_5b</th></tr></thead>\n",
       "<tbody>\n",
       "\t<tr><td>2007-02-01</td><td>-0.48     </td><td>-0.9469720</td><td>-1.0508500</td><td>0.3912500 </td><td>-0.2259669</td></tr>\n",
       "\t<tr><td>2007-03-01</td><td> 0.19     </td><td>-1.1716580</td><td>-0.8352500</td><td>0.3216667 </td><td>-0.3395919</td></tr>\n",
       "\t<tr><td>2007-04-01</td><td> 0.23     </td><td>-1.0236103</td><td>-0.4783250</td><td>0.2533333 </td><td>-0.3514924</td></tr>\n",
       "\t<tr><td>2007-05-01</td><td>-0.11     </td><td>-0.7938081</td><td>-0.8695833</td><td>0.1891667 </td><td>-0.3336249</td></tr>\n",
       "\t<tr><td>2007-06-01</td><td> 0.03     </td><td>-0.6636358</td><td>-1.5551083</td><td>0.1470833 </td><td>-0.3140452</td></tr>\n",
       "\t<tr><td>2007-07-01</td><td>-0.05     </td><td>-0.6418270</td><td>-2.0567583</td><td>0.1429167 </td><td>-0.3407876</td></tr>\n",
       "</tbody>\n",
       "</table>\n"
      ],
      "text/latex": [
       "\\begin{tabular}{r|llllll}\n",
       " date & indicator\\_1 & indicator\\_2b & indicator\\_3b & indicator\\_4b & indicator\\_5b\\\\\n",
       "\\hline\n",
       "\t 2007-02-01 & -0.48      & -0.9469720 & -1.0508500 & 0.3912500  & -0.2259669\\\\\n",
       "\t 2007-03-01 &  0.19      & -1.1716580 & -0.8352500 & 0.3216667  & -0.3395919\\\\\n",
       "\t 2007-04-01 &  0.23      & -1.0236103 & -0.4783250 & 0.2533333  & -0.3514924\\\\\n",
       "\t 2007-05-01 & -0.11      & -0.7938081 & -0.8695833 & 0.1891667  & -0.3336249\\\\\n",
       "\t 2007-06-01 &  0.03      & -0.6636358 & -1.5551083 & 0.1470833  & -0.3140452\\\\\n",
       "\t 2007-07-01 & -0.05      & -0.6418270 & -2.0567583 & 0.1429167  & -0.3407876\\\\\n",
       "\\end{tabular}\n"
      ],
      "text/markdown": [
       "\n",
       "| date | indicator_1 | indicator_2b | indicator_3b | indicator_4b | indicator_5b |\n",
       "|---|---|---|---|---|---|\n",
       "| 2007-02-01 | -0.48      | -0.9469720 | -1.0508500 | 0.3912500  | -0.2259669 |\n",
       "| 2007-03-01 |  0.19      | -1.1716580 | -0.8352500 | 0.3216667  | -0.3395919 |\n",
       "| 2007-04-01 |  0.23      | -1.0236103 | -0.4783250 | 0.2533333  | -0.3514924 |\n",
       "| 2007-05-01 | -0.11      | -0.7938081 | -0.8695833 | 0.1891667  | -0.3336249 |\n",
       "| 2007-06-01 |  0.03      | -0.6636358 | -1.5551083 | 0.1470833  | -0.3140452 |\n",
       "| 2007-07-01 | -0.05      | -0.6418270 | -2.0567583 | 0.1429167  | -0.3407876 |\n",
       "\n"
      ],
      "text/plain": [
       "  date       indicator_1 indicator_2b indicator_3b indicator_4b indicator_5b\n",
       "1 2007-02-01 -0.48       -0.9469720   -1.0508500   0.3912500    -0.2259669  \n",
       "2 2007-03-01  0.19       -1.1716580   -0.8352500   0.3216667    -0.3395919  \n",
       "3 2007-04-01  0.23       -1.0236103   -0.4783250   0.2533333    -0.3514924  \n",
       "4 2007-05-01 -0.11       -0.7938081   -0.8695833   0.1891667    -0.3336249  \n",
       "5 2007-06-01  0.03       -0.6636358   -1.5551083   0.1470833    -0.3140452  \n",
       "6 2007-07-01 -0.05       -0.6418270   -2.0567583   0.1429167    -0.3407876  "
      ]
     },
     "metadata": {},
     "output_type": "display_data"
    }
   ],
   "source": [
    "cat(\" initial rows of selected indicators for this strategy :\", \"\\n\")\n",
    "head(Indicators_data_selected_b)"
   ]
  },
  {
   "cell_type": "code",
   "execution_count": 17,
   "id": "170b8647",
   "metadata": {},
   "outputs": [],
   "source": [
    "# For the same reason as above , we will flip the sign here also\n",
    "Indicators_data_selected_b$indicator_2b <- -Indicators_data_selected_b$indicator_2b\n",
    "Indicators_data_selected_b$indicator_3b <- -Indicators_data_selected_b$indicator_3b\n",
    "Indicators_data_selected_b$indicator_4b <- -Indicators_data_selected_b$indicator_4b\n",
    "Indicators_data_selected_b$indicator_5b <- -Indicators_data_selected_b$indicator_5b"
   ]
  },
  {
   "cell_type": "code",
   "execution_count": 18,
   "id": "8c72acba",
   "metadata": {},
   "outputs": [
    {
     "name": "stdout",
     "output_type": "stream",
     "text": [
      "monthly investment decisions of this strategy : \n",
      "  [1] 0 1 1 1 1 1 1 1 1 1 1 1 0 0 0 0 0 0 0 0 0 0 0 0 0 0 0 0 0 0 1 1 1 1 1 1 1\n",
      " [38] 1 1 1 1 1 0 1 0 0 1 1 1 1 1 1 1 1 1 1 0 0 0 0 0 0 0 0 1 0 1 1 1 1 1 1 1 1\n",
      " [75] 1 1 1 1 1 0 1 1 0 1 0 0 1 1 1 0 0 1 0 0 0 0 0 0 0 0 0 0 0 0 0 0 0 0 0 0 0\n",
      "[112] 0 0 0 1 1 0 0 0 0 0 0 0 0 0 0 1 0 0 1 1 1 1 0 1 1 1 0 0 0 0 0 0 0 0 0 0 0\n",
      "[149] 0 0 0 0 1 1 1 1 1 1 1 0 0 1 1 1 1 1 1 1 1 1 1 1 1 1 1 1 1 1 1 1 0 0 0 0 0\n",
      "[186] 0 0 0 0 0 0 0 0 0 0 1 1 1 1 1\n"
     ]
    }
   ],
   "source": [
    "# Define the minimum number of positive indicators required to invest\n",
    "min_positive_indicators = 3\n",
    "# Calculating a binary vector for monthly investment decisions\n",
    "investment_strategy_b <- Indicators_data_selected_b %>%\n",
    "  mutate(positive_indicators = rowSums(select(., starts_with(\"indicator\")) > 0)) %>%\n",
    "  mutate(invest = ifelse(positive_indicators >= min_positive_indicators, 1, 0)) %>%\n",
    "  pull(invest)\n",
    "\n",
    "# Inserting 0 in the front, so that length is same as the return vector and it means that we are not investing in 2007/01/01\n",
    "investment_strategy_b <- c(0, investment_strategy_b)\n",
    "\n",
    "# Printing the binary vector\n",
    "cat(\"monthly investment decisions of this strategy :\", \"\\n\")\n",
    "print(investment_strategy_b)"
   ]
  },
  {
   "cell_type": "code",
   "execution_count": 19,
   "id": "5c883fec",
   "metadata": {},
   "outputs": [],
   "source": [
    "#using the same sp_500_a dataframe to calculate the monthly return\n",
    "sp_500_b<- sp_500_a"
   ]
  },
  {
   "cell_type": "code",
   "execution_count": 20,
   "id": "980effbd",
   "metadata": {},
   "outputs": [
    {
     "name": "stdout",
     "output_type": "stream",
     "text": [
      "monthly returs of this strategy : \n"
     ]
    },
    {
     "data": {
      "text/plain": [
       "                    [,1]\n",
       "2007-01-01            NA\n",
       "2007-02-01  0.0140123937\n",
       "2007-03-01 -0.0216287468\n",
       "2007-04-01  0.0099729220\n",
       "2007-05-01  0.0433127404\n",
       "2007-06-01  0.0325492287\n",
       "2007-07-01 -0.0169604219\n",
       "2007-08-01 -0.0328844917\n",
       "2007-09-01  0.0129055557\n",
       "2007-10-01  0.0361814971\n",
       "2007-11-01  0.0121129579\n",
       "2007-12-01 -0.0428001427\n",
       "2008-01-01  0.0000000000\n",
       "2008-02-01  0.0000000000\n",
       "2008-03-01  0.0000000000\n",
       "2008-04-01  0.0000000000\n",
       "2008-05-01  0.0000000000\n",
       "2008-06-01  0.0000000000\n",
       "2008-07-01  0.0000000000\n",
       "2008-08-01  0.0000000000\n",
       "2008-09-01  0.0000000000\n",
       "2008-10-01  0.0000000000\n",
       "2008-11-01  0.0000000000\n",
       "2008-12-01  0.0000000000\n",
       "2009-01-01  0.0000000000\n",
       "2009-02-01  0.0000000000\n",
       "2009-03-01  0.0000000000\n",
       "2009-04-01  0.0000000000\n",
       "2009-05-01  0.0000000000\n",
       "2009-06-01  0.0000000000\n",
       "2009-07-01 -0.0026428118\n",
       "2009-08-01  0.0753675668\n",
       "2009-09-01  0.0295894344\n",
       "2009-10-01  0.0347124274\n",
       "2009-11-01 -0.0177550501\n",
       "2009-12-01  0.0605203321\n",
       "2010-01-01  0.0160799022\n",
       "2010-02-01 -0.0382156281\n",
       "2010-03-01  0.0293046497\n",
       "2010-04-01  0.0595914417\n",
       "2010-05-01  0.0148134661\n",
       "2010-06-01 -0.0852108491\n",
       "2010-07-01  0.0000000000\n",
       "2010-08-01  0.0741247750\n",
       "2010-09-01  0.0000000000\n",
       "2010-10-01  0.0000000000\n",
       "2010-11-01  0.0369220291\n",
       "2010-12-01  0.0007506175\n",
       "2011-01-01  0.0598516948\n",
       "2011-02-01  0.0250632303\n",
       "2011-03-01  0.0306405817\n",
       "2011-04-01  0.0006321997\n",
       "2011-05-01  0.0268751549\n",
       "2011-06-01 -0.0146570933\n",
       "2011-07-01 -0.0182574617\n",
       "2011-08-01 -0.0212397387\n",
       "2011-09-01  0.0000000000\n",
       "2011-10-01  0.0000000000\n",
       "2011-11-01  0.0000000000\n",
       "2011-12-01  0.0000000000\n",
       "2012-01-01  0.0000000000\n",
       "2012-02-01  0.0000000000\n",
       "2012-03-01  0.0000000000\n",
       "2012-04-01  0.0000000000\n",
       "2012-05-01 -0.0075329866\n",
       "2012-06-01  0.0000000000\n",
       "2012-07-01  0.0400497463\n",
       "2012-08-01  0.0124712741\n",
       "2012-09-01  0.0197344299\n",
       "2012-10-01  0.0244287289\n",
       "2012-11-01 -0.0199181572\n",
       "2012-12-01  0.0029316066\n",
       "2013-01-01  0.0069545277\n",
       "2013-02-01  0.0504280965\n",
       "2013-03-01  0.0110606488\n",
       "2013-04-01  0.0359811961\n",
       "2013-05-01  0.0180795028\n",
       "2013-06-01  0.0213826867\n",
       "2013-07-01 -0.0134398466\n",
       "2013-08-01  0.0000000000\n",
       "2013-09-01 -0.0316499694\n",
       "2013-10-01  0.0283994525\n",
       "2013-11-01  0.0000000000\n",
       "2013-12-01  0.0272076528\n",
       "2014-01-01  0.0000000000\n",
       "2014-02-01  0.0000000000\n",
       "2014-03-01  0.0420714866\n",
       "2014-04-01  0.0087635689\n",
       "2014-05-01  0.0055657826\n",
       "2014-06-01  0.0000000000\n",
       "2014-07-01  0.0000000000\n",
       "2014-08-01 -0.0165571804\n",
       "2014-09-01  0.0000000000\n",
       "2014-10-01  0.0000000000\n",
       "2014-11-01  0.0000000000\n",
       "2014-12-01  0.0000000000\n",
       "2015-01-01  0.0000000000\n",
       "2015-02-01  0.0000000000\n",
       "2015-03-01  0.0000000000\n",
       "2015-04-01  0.0000000000\n",
       "2015-05-01  0.0000000000\n",
       "2015-06-01  0.0000000000\n",
       "2015-07-01  0.0000000000\n",
       "2015-08-01  0.0000000000\n",
       "2015-09-01  0.0000000000\n",
       "2015-10-01  0.0000000000\n",
       "2015-11-01  0.0000000000\n",
       "2015-12-01  0.0000000000\n",
       "2016-01-01  0.0000000000\n",
       "2016-02-01  0.0000000000\n",
       "2016-03-01  0.0000000000\n",
       "2016-04-01  0.0000000000\n",
       "2016-05-01  0.0000000000\n",
       "2016-06-01  0.0000000000\n",
       "2016-07-01  0.0025789405\n",
       "2016-08-01  0.0351585791\n",
       "2016-09-01  0.0000000000\n",
       "2016-10-01  0.0000000000\n",
       "2016-11-01  0.0000000000\n",
       "2016-12-01  0.0000000000\n",
       "2017-01-01  0.0000000000\n",
       "2017-02-01  0.0000000000\n",
       "2017-03-01  0.0000000000\n",
       "2017-04-01  0.0000000000\n",
       "2017-05-01  0.0000000000\n",
       "2017-06-01  0.0000000000\n",
       "2017-07-01  0.0065158408\n",
       "2017-08-01  0.0000000000\n",
       "2017-09-01  0.0000000000\n",
       "2017-10-01  0.0189054529\n",
       "2017-11-01  0.0245954351\n",
       "2017-12-01  0.0239586165\n",
       "2018-01-01  0.0146043179\n",
       "2018-02-01  0.0000000000\n",
       "2018-03-01 -0.0359424035\n",
       "2018-04-01 -0.0301154309\n",
       "2018-05-01  0.0036112362\n",
       "2018-06-01  0.0000000000\n",
       "2018-07-01  0.0000000000\n",
       "2018-08-01  0.0000000000\n",
       "2018-09-01  0.0000000000\n",
       "2018-10-01  0.0000000000\n",
       "2018-11-01  0.0000000000\n",
       "2018-12-01  0.0000000000\n",
       "2019-01-01  0.0000000000\n",
       "2019-02-01  0.0000000000\n",
       "2019-03-01  0.0000000000\n",
       "2019-04-01  0.0000000000\n",
       "2019-05-01  0.0000000000\n",
       "2019-06-01  0.0000000000\n",
       "2019-07-01  0.0000000000\n",
       "2019-08-01  0.0000000000\n",
       "2019-09-01 -0.0239269800\n",
       "2019-10-01  0.0256719404\n",
       "2019-11-01  0.0224654809\n",
       "2019-12-01  0.0305272617\n",
       "2020-01-01  0.0320689031\n",
       "2020-02-01 -0.0027768648\n",
       "2020-03-01 -0.0807810122\n",
       "2020-04-01  0.0000000000\n",
       "2020-05-01  0.0000000000\n",
       "2020-06-01  0.0591441663\n",
       "2020-07-01  0.0220943576\n",
       "2020-08-01  0.0587072727\n",
       "2020-09-01  0.0666552922\n",
       "2020-10-01 -0.0346605576\n",
       "2020-11-01 -0.0264836402\n",
       "2020-12-01  0.1060828139\n",
       "2021-01-01  0.0325683544\n",
       "2021-02-01 -0.0088827753\n",
       "2021-03-01  0.0298405300\n",
       "2021-04-01  0.0391072552\n",
       "2021-05-01  0.0498900389\n",
       "2021-06-01  0.0058540449\n",
       "2021-07-01  0.0199714363\n",
       "2021-08-01  0.0246771788\n",
       "2021-09-01  0.0276704831\n",
       "2021-10-01 -0.0467319505\n",
       "2021-11-01  0.0679752315\n",
       "2021-12-01 -0.0016918099\n",
       "2022-01-01  0.0000000000\n",
       "2022-02-01  0.0000000000\n",
       "2022-03-01  0.0000000000\n",
       "2022-04-01  0.0000000000\n",
       "2022-05-01  0.0000000000\n",
       "2022-06-01  0.0000000000\n",
       "2022-07-01  0.0000000000\n",
       "2022-08-01  0.0000000000\n",
       "2022-09-01  0.0000000000\n",
       "2022-10-01  0.0000000000\n",
       "2022-11-01  0.0000000000\n",
       "2022-12-01  0.0000000000\n",
       "2023-01-01  0.0000000000\n",
       "2023-02-01  0.0000000000\n",
       "2023-03-01  0.0000000000\n",
       "2023-04-01  0.0350361322\n",
       "2023-05-01  0.0157451710\n",
       "2023-06-01  0.0038974237\n",
       "2023-07-01  0.0639369570\n",
       "2023-08-01  0.0288396079"
      ]
     },
     "metadata": {},
     "output_type": "display_data"
    }
   ],
   "source": [
    "# calculating monthly returns of strategy_b\n",
    "strategy_returns_b <- investment_strategy_b * c(0, diff(sp_500_b$Open)) / lag(sp_500_b$Open)\n",
    "\n",
    "# Converting the date column to a Date format\n",
    "sp_500_b$Date <- as.Date(sp_500_b$Date)\n",
    "\n",
    "# Creating an xts time series object\n",
    "strategy_returns_b <- xts(strategy_returns_b, order.by = sp_500_b$Date)\n",
    "\n",
    "cat(\"monthly returs of this strategy :\", \"\\n\")\n",
    "strategy_returns_b"
   ]
  },
  {
   "cell_type": "code",
   "execution_count": 21,
   "id": "bf5b82d2",
   "metadata": {},
   "outputs": [
    {
     "name": "stdout",
     "output_type": "stream",
     "text": [
      "performance parameters of strategy_b : \n",
      "$Max_Drawdown\n",
      "[1] 0.1866625\n",
      "\n",
      "$Cumulative_Return\n",
      "[1] 380.5586\n",
      "\n",
      "$Annualized_Return\n",
      "[1] 8.392765\n",
      "\n",
      "$Annualized_Risk\n",
      "[1] 0.08248844\n",
      "\n",
      "$Sharpe_Ratio\n",
      "[1] 1.017447\n",
      "\n"
     ]
    }
   ],
   "source": [
    "#  performance measures:\n",
    "#calculating the performance parameters\n",
    "performance_params_b <- calculate_performance_parameters(strategy_returns_b,risk_free_rate)\n",
    "\n",
    "# Printing the results\n",
    "cat(\"performance parameters of strategy_b :\", \"\\n\")\n",
    "print(performance_params_b)"
   ]
  },
  {
   "cell_type": "code",
   "execution_count": 22,
   "id": "45c3a278",
   "metadata": {},
   "outputs": [
    {
     "data": {
      "image/png": "[encoded data removed]",
      "text/plain": [
       "plot without title"
      ]
     },
     "metadata": {},
     "output_type": "display_data"
    },
    {
     "data": {
      "text/html": [
       "-0.186662549826291"
      ],
      "text/latex": [
       "-0.186662549826291"
      ],
      "text/markdown": [
       "-0.186662549826291"
      ],
      "text/plain": [
       "[1] -0.1866625"
      ]
     },
     "metadata": {},
     "output_type": "display_data"
    },
    {
     "data": {
      "image/png": "[encoded data removed]",
      "text/plain": [
       "Plot with title \"Monthly Returns of strategy_b\""
      ]
     },
     "metadata": {},
     "output_type": "display_data"
    },
    {
     "data": {
      "image/png": "[encoded data removed]",
      "text/plain": [
       "Plot with title \"Monthly Drawdown for Strategy_b\""
      ]
     },
     "metadata": {},
     "output_type": "display_data"
    }
   ],
   "source": [
    "# plotting the commulative returns, monthly returns and drawdowns for strategy_b\n",
    "\n",
    "strategy_returns_b[is.na(strategy_returns_b)] <- 0    #replacing initial NA by 0 to avoid plotting errors\n",
    "#1.commulative returns\n",
    "cumulative_returns_bb <- cumprod(1 + strategy_returns_b)\n",
    "plot(cumulative_returns_bb, type = \"l\", col = \"blue\", xlab = \"Date\", ylab = \"Value\", main = \"Commulative Returns of strategy_b\")\n",
    "\n",
    "#2.monthly returns\n",
    "barplot(strategy_returns_b, col = \"blue\", \n",
    "        xlab = \"Month\", ylab = \"Monthly Returns\", \n",
    "        main = \"Monthly Returns of strategy_b\")\n",
    "\n",
    "#3. Calculating maximum cumulative returns up to each month\n",
    "max_cumulative_returns_bb <- cummax(cumulative_returns_bb)\n",
    "\n",
    "# Calculating drawdown as the difference between cumulative returns and max cumulative returns\n",
    "drawdown_bb <- cumulative_returns_bb - max_cumulative_returns_bb\n",
    "max_drawdown_bb <- min(drawdown_bb)\n",
    "max_drawdown_bb\n",
    "\n",
    "# Creating a sequence of months for plotting\n",
    "months <- seq(from = 1, to = length(drawdown_bb), by = 1)\n",
    "\n",
    "# Plotting the drawdown for strategy_b\n",
    "plot(months, drawdown_bb, type = \"l\", col = \"blue\",\n",
    "     xlab = \"Month\", ylab = \"Drawdown\",\n",
    "     main = \"Monthly Drawdown for Strategy_b\", xaxt = \"n\")"
   ]
  },
  {
   "cell_type": "markdown",
   "id": "e647e64f",
   "metadata": {},
   "source": [
    "Strategy_c : will check the difference between moving avg of 3m and 12m in the current month, if it is positive then we will invest in the next month and vice-versa"
   ]
  },
  {
   "cell_type": "code",
   "execution_count": 23,
   "id": "7c670631",
   "metadata": {},
   "outputs": [
    {
     "name": "stdout",
     "output_type": "stream",
     "text": [
      " initial rows of sp_500_c : \n"
     ]
    },
    {
     "data": {
      "text/html": [
       "<table>\n",
       "<thead><tr><th scope=col>Date</th><th scope=col>Open</th><th scope=col>High</th><th scope=col>Low</th><th scope=col>Close</th><th scope=col>Adj.Close</th><th scope=col>Volume</th><th scope=col>ma_3m</th><th scope=col>ma_12m</th><th scope=col>ma_3_diff_ma_12m</th><th scope=col>indicator_p</th></tr></thead>\n",
       "<tbody>\n",
       "\t<tr><td>2006-02-01 </td><td>1280.08    </td><td>1297.57    </td><td>1253.61    </td><td>1280.66    </td><td>1280.66    </td><td>42859940000</td><td>      NA   </td><td>NA         </td><td>NA         </td><td>NA         </td></tr>\n",
       "\t<tr><td>2006-03-01 </td><td>1280.66    </td><td>1310.88    </td><td>1268.42    </td><td>1294.87    </td><td>1294.87    </td><td>50905040000</td><td>      NA   </td><td>NA         </td><td>NA         </td><td>NA         </td></tr>\n",
       "\t<tr><td>2006-04-01 </td><td>1302.88    </td><td>1318.16    </td><td>1280.74    </td><td>1310.61    </td><td>1310.61    </td><td>43308430000</td><td>1287.873   </td><td>NA         </td><td>NA         </td><td>NA         </td></tr>\n",
       "\t<tr><td>2006-05-01 </td><td>1310.61    </td><td>1326.70    </td><td>1245.34    </td><td>1270.09    </td><td>1270.09    </td><td>54312830000</td><td>1298.050   </td><td>NA         </td><td>NA         </td><td>NA         </td></tr>\n",
       "\t<tr><td>2006-06-01 </td><td>1270.05    </td><td>1290.68    </td><td>1219.29    </td><td>1270.20    </td><td>1270.20    </td><td>54873260000</td><td>1294.513   </td><td>NA         </td><td>NA         </td><td>NA         </td></tr>\n",
       "\t<tr><td>2006-07-01 </td><td>1270.06    </td><td>1280.42    </td><td>1224.54    </td><td>1276.66    </td><td>1276.66    </td><td>46348220000</td><td>1283.573   </td><td>NA         </td><td>NA         </td><td>NA         </td></tr>\n",
       "</tbody>\n",
       "</table>\n"
      ],
      "text/latex": [
       "\\begin{tabular}{r|lllllllllll}\n",
       " Date & Open & High & Low & Close & Adj.Close & Volume & ma\\_3m & ma\\_12m & ma\\_3\\_diff\\_ma\\_12m & indicator\\_p\\\\\n",
       "\\hline\n",
       "\t 2006-02-01  & 1280.08     & 1297.57     & 1253.61     & 1280.66     & 1280.66     & 42859940000 &       NA    & NA          & NA          & NA         \\\\\n",
       "\t 2006-03-01  & 1280.66     & 1310.88     & 1268.42     & 1294.87     & 1294.87     & 50905040000 &       NA    & NA          & NA          & NA         \\\\\n",
       "\t 2006-04-01  & 1302.88     & 1318.16     & 1280.74     & 1310.61     & 1310.61     & 43308430000 & 1287.873    & NA          & NA          & NA         \\\\\n",
       "\t 2006-05-01  & 1310.61     & 1326.70     & 1245.34     & 1270.09     & 1270.09     & 54312830000 & 1298.050    & NA          & NA          & NA         \\\\\n",
       "\t 2006-06-01  & 1270.05     & 1290.68     & 1219.29     & 1270.20     & 1270.20     & 54873260000 & 1294.513    & NA          & NA          & NA         \\\\\n",
       "\t 2006-07-01  & 1270.06     & 1280.42     & 1224.54     & 1276.66     & 1276.66     & 46348220000 & 1283.573    & NA          & NA          & NA         \\\\\n",
       "\\end{tabular}\n"
      ],
      "text/markdown": [
       "\n",
       "| Date | Open | High | Low | Close | Adj.Close | Volume | ma_3m | ma_12m | ma_3_diff_ma_12m | indicator_p |\n",
       "|---|---|---|---|---|---|---|---|---|---|---|\n",
       "| 2006-02-01  | 1280.08     | 1297.57     | 1253.61     | 1280.66     | 1280.66     | 42859940000 |       NA    | NA          | NA          | NA          |\n",
       "| 2006-03-01  | 1280.66     | 1310.88     | 1268.42     | 1294.87     | 1294.87     | 50905040000 |       NA    | NA          | NA          | NA          |\n",
       "| 2006-04-01  | 1302.88     | 1318.16     | 1280.74     | 1310.61     | 1310.61     | 43308430000 | 1287.873    | NA          | NA          | NA          |\n",
       "| 2006-05-01  | 1310.61     | 1326.70     | 1245.34     | 1270.09     | 1270.09     | 54312830000 | 1298.050    | NA          | NA          | NA          |\n",
       "| 2006-06-01  | 1270.05     | 1290.68     | 1219.29     | 1270.20     | 1270.20     | 54873260000 | 1294.513    | NA          | NA          | NA          |\n",
       "| 2006-07-01  | 1270.06     | 1280.42     | 1224.54     | 1276.66     | 1276.66     | 46348220000 | 1283.573    | NA          | NA          | NA          |\n",
       "\n"
      ],
      "text/plain": [
       "  Date       Open    High    Low     Close   Adj.Close Volume      ma_3m   \n",
       "1 2006-02-01 1280.08 1297.57 1253.61 1280.66 1280.66   42859940000       NA\n",
       "2 2006-03-01 1280.66 1310.88 1268.42 1294.87 1294.87   50905040000       NA\n",
       "3 2006-04-01 1302.88 1318.16 1280.74 1310.61 1310.61   43308430000 1287.873\n",
       "4 2006-05-01 1310.61 1326.70 1245.34 1270.09 1270.09   54312830000 1298.050\n",
       "5 2006-06-01 1270.05 1290.68 1219.29 1270.20 1270.20   54873260000 1294.513\n",
       "6 2006-07-01 1270.06 1280.42 1224.54 1276.66 1276.66   46348220000 1283.573\n",
       "  ma_12m ma_3_diff_ma_12m indicator_p\n",
       "1 NA     NA               NA         \n",
       "2 NA     NA               NA         \n",
       "3 NA     NA               NA         \n",
       "4 NA     NA               NA         \n",
       "5 NA     NA               NA         \n",
       "6 NA     NA               NA         "
      ]
     },
     "metadata": {},
     "output_type": "display_data"
    }
   ],
   "source": [
    "#making s&p 500 dataframe which has monthly values from 2006-02-01 to 2023-08-01 , will use this to calculate moving\n",
    "#average and monthly returns\n",
    "sp_500_c <- read.csv('C:/Users/hrith/OneDrive/Documents/RESUME_PROJECTS_COPY/SSGA_internship_assignment/Assignment_1/s&p_500_c.csv')\n",
    "\n",
    "# Converting the column to a time series\n",
    "open_price_ts <- as.ts(sp_500_c$Open)\n",
    "\n",
    "# Calculating the 12 and 3 month moving average\n",
    "ma_12m <- rollapply(open_price_ts, width = 12, FUN = mean, align = \"right\", fill = NA)\n",
    "ma_3m <- rollapply(open_price_ts, width = 3, FUN = mean, align = \"right\", fill = NA)\n",
    "\n",
    "# Adding the calculated moving average to the dataframe\n",
    "sp_500_c$ma_3m <- ma_3m\n",
    "sp_500_c$ma_12m <- ma_12m\n",
    "\n",
    "#Making the indicator\n",
    "sp_500_c$ma_3_diff_ma_12m <- sp_500_c$ma_3m - sp_500_c$ma_12m\n",
    "sp_500_c$indicator_p <- c(rep(NA, 1), head(sp_500_c$ma_3_diff_ma_12m, -1))  #shifting indicator with the same reason as that shifting the months\n",
    "\n",
    "cat(\" initial rows of sp_500_c :\", \"\\n\")\n",
    "head(sp_500_c)"
   ]
  },
  {
   "cell_type": "code",
   "execution_count": 24,
   "id": "236b1978",
   "metadata": {},
   "outputs": [
    {
     "name": "stdout",
     "output_type": "stream",
     "text": [
      "monthly investment decisions of strategy_c : \n",
      "  [1] NA NA NA NA NA NA NA NA NA NA NA NA  1  1  1  1  1  1  1  1  1  1  1  1  1\n",
      " [26]  0  0  0  0  0  0  0  0  0  0  0  0  0  0  0  0  0  0  1  1  1  1  1  1  1\n",
      " [51]  1  1  1  1  1  0  0  0  1  1  1  1  1  1  1  1  1  1  1  0  0  0  0  0  1\n",
      " [76]  1  1  1  1  1  1  1  1  1  1  1  1  1  1  1  1  1  1  1  1  1  1  1  1  1\n",
      "[101]  1  1  1  1  1  1  1  1  1  1  1  1  1  1  1  1  0  0  0  0  1  0  0  0  0\n",
      "[126]  1  1  1  1  1  1  1  1  1  1  1  1  1  1  1  1  1  1  1  1  1  1  1  1  1\n",
      "[151]  1  1  1  1  1  1  0  0  0  1  1  1  1  1  1  1  1  1  1  1  1  0  0  0  1\n",
      "[176]  1  1  1  1  1  1  1  1  1  1  1  1  1  1  1  1  1  1  1  1  1  0  0  0  0\n",
      "[201]  0  0  0  0  0  0  0  1  1  1  1\n"
     ]
    }
   ],
   "source": [
    "# making the binary vector as investment strategy based on strategy_c\n",
    "investment_strategy_c <- ifelse(sp_500_c$indicator_p > 0, 1, 0)\n",
    "\n",
    "cat(\"monthly investment decisions of strategy_c :\", \"\\n\")\n",
    "print(investment_strategy_c)"
   ]
  },
  {
   "cell_type": "code",
   "execution_count": 25,
   "id": "5e769f61",
   "metadata": {},
   "outputs": [
    {
     "name": "stdout",
     "output_type": "stream",
     "text": [
      "monthly returs of strategy_c : \n"
     ]
    },
    {
     "data": {
      "text/plain": [
       "                    [,1]\n",
       "2006-02-01            NA\n",
       "2006-03-01            NA\n",
       "2006-04-01            NA\n",
       "2006-05-01            NA\n",
       "2006-06-01            NA\n",
       "2006-07-01            NA\n",
       "2006-08-01            NA\n",
       "2006-09-01            NA\n",
       "2006-10-01            NA\n",
       "2006-11-01            NA\n",
       "2006-12-01            NA\n",
       "2007-01-01            NA\n",
       "2007-02-01  0.0140123937\n",
       "2007-03-01 -0.0216287468\n",
       "2007-04-01  0.0099729220\n",
       "2007-05-01  0.0433127404\n",
       "2007-06-01  0.0325492287\n",
       "2007-07-01 -0.0169604219\n",
       "2007-08-01 -0.0328844917\n",
       "2007-09-01  0.0129055557\n",
       "2007-10-01  0.0361814971\n",
       "2007-11-01  0.0121129579\n",
       "2007-12-01 -0.0428001427\n",
       "2008-01-01 -0.0078803715\n",
       "2008-02-01 -0.0608799886\n",
       "2008-03-01  0.0000000000\n",
       "2008-04-01  0.0000000000\n",
       "2008-05-01  0.0000000000\n",
       "2008-06-01  0.0000000000\n",
       "2008-07-01  0.0000000000\n",
       "2008-08-01  0.0000000000\n",
       "2008-09-01  0.0000000000\n",
       "2008-10-01  0.0000000000\n",
       "2008-11-01  0.0000000000\n",
       "2008-12-01  0.0000000000\n",
       "2009-01-01  0.0000000000\n",
       "2009-02-01  0.0000000000\n",
       "2009-03-01  0.0000000000\n",
       "2009-04-01  0.0000000000\n",
       "2009-05-01  0.0000000000\n",
       "2009-06-01  0.0000000000\n",
       "2009-07-01  0.0000000000\n",
       "2009-08-01  0.0000000000\n",
       "2009-09-01  0.0295894344\n",
       "2009-10-01  0.0347124274\n",
       "2009-11-01 -0.0177550501\n",
       "2009-12-01  0.0605203321\n",
       "2010-01-01  0.0160799022\n",
       "2010-02-01 -0.0382156281\n",
       "2010-03-01  0.0293046497\n",
       "2010-04-01  0.0595914417\n",
       "2010-05-01  0.0148134661\n",
       "2010-06-01 -0.0852108491\n",
       "2010-07-01 -0.0516877317\n",
       "2010-08-01  0.0741247750\n",
       "2010-09-01  0.0000000000\n",
       "2010-10-01  0.0000000000\n",
       "2010-11-01  0.0000000000\n",
       "2010-12-01  0.0007506175\n",
       "2011-01-01  0.0598516948\n",
       "2011-02-01  0.0250632303\n",
       "2011-03-01  0.0306405817\n",
       "2011-04-01  0.0006321997\n",
       "2011-05-01  0.0268751549\n",
       "2011-06-01 -0.0146570933\n",
       "2011-07-01 -0.0182574617\n",
       "2011-08-01 -0.0212397387\n",
       "2011-09-01 -0.0568393479\n",
       "2011-10-01 -0.0721094187\n",
       "2011-11-01  0.0000000000\n",
       "2011-12-01  0.0000000000\n",
       "2012-01-01  0.0000000000\n",
       "2012-02-01  0.0000000000\n",
       "2012-03-01  0.0000000000\n",
       "2012-04-01  0.0311662241\n",
       "2012-05-01 -0.0075329866\n",
       "2012-06-01 -0.0629462115\n",
       "2012-07-01  0.0400497463\n",
       "2012-08-01  0.0124712741\n",
       "2012-09-01  0.0197344299\n",
       "2012-10-01  0.0244287289\n",
       "2012-11-01 -0.0199181572\n",
       "2012-12-01  0.0029316066\n",
       "2013-01-01  0.0069545277\n",
       "2013-02-01  0.0504280965\n",
       "2013-03-01  0.0110606488\n",
       "2013-04-01  0.0359811961\n",
       "2013-05-01  0.0180795028\n",
       "2013-06-01  0.0213826867\n",
       "2013-07-01 -0.0134398466\n",
       "2013-08-01  0.0494726069\n",
       "2013-09-01 -0.0316499694\n",
       "2013-10-01  0.0283994525\n",
       "2013-11-01  0.0453456146\n",
       "2013-12-01  0.0272076528\n",
       "2014-01-01  0.0217596720\n",
       "2014-02-01 -0.0342279112\n",
       "2014-03-01  0.0420714866\n",
       "2014-04-01  0.0087635689\n",
       "2014-05-01  0.0055657826\n",
       "2014-06-01  0.0209510665\n",
       "2014-07-01  0.0199701872\n",
       "2014-08-01 -0.0165571804\n",
       "2014-09-01  0.0384857993\n",
       "2014-10-01 -0.0162818693\n",
       "2014-11-01  0.0237237861\n",
       "2014-12-01  0.0235704259\n",
       "2015-01-01 -0.0033305225\n",
       "2015-02-01 -0.0302248100\n",
       "2015-03-01  0.0543704939\n",
       "2015-04-01 -0.0178603279\n",
       "2015-05-01  0.0095519997\n",
       "2015-06-01  0.0101850219\n",
       "2015-07-01 -0.0197472754\n",
       "2015-08-01  0.0181373925\n",
       "2015-09-01 -0.0638634658\n",
       "2015-10-01  0.0000000000\n",
       "2015-11-01  0.0000000000\n",
       "2015-12-01  0.0000000000\n",
       "2016-01-01  0.0000000000\n",
       "2016-02-01 -0.0496810971\n",
       "2016-03-01  0.0000000000\n",
       "2016-04-01  0.0000000000\n",
       "2016-05-01  0.0000000000\n",
       "2016-06-01  0.0000000000\n",
       "2016-07-01  0.0025789405\n",
       "2016-08-01  0.0351585791\n",
       "2016-09-01 -0.0008374131\n",
       "2016-10-01 -0.0032238304\n",
       "2016-11-01 -0.0164716772\n",
       "2016-12-01  0.0335841895\n",
       "2017-01-01  0.0233618985\n",
       "2017-02-01  0.0151094652\n",
       "2017-03-01  0.0413634078\n",
       "2017-04-01 -0.0074742959\n",
       "2017-05-01  0.0110737282\n",
       "2017-06-01  0.0113669258\n",
       "2017-07-01  0.0065158408\n",
       "2017-08-01  0.0188000309\n",
       "2017-09-01 -0.0010819812\n",
       "2017-10-01  0.0189054529\n",
       "2017-11-01  0.0245954351\n",
       "2017-12-01  0.0239586165\n",
       "2018-01-01  0.0146043179\n",
       "2018-02-01  0.0494535485\n",
       "2018-03-01 -0.0359424035\n",
       "2018-04-01 -0.0301154309\n",
       "2018-05-01  0.0036112362\n",
       "2018-06-01  0.0286572598\n",
       "2018-07-01 -0.0050575644\n",
       "2018-08-01  0.0429656640\n",
       "2018-09-01  0.0268647551\n",
       "2018-10-01  0.0101244334\n",
       "2018-11-01 -0.0713223768\n",
       "2018-12-01  0.0268326672\n",
       "2019-01-01 -0.1123598062\n",
       "2019-02-01  0.0000000000\n",
       "2019-03-01  0.0000000000\n",
       "2019-04-01  0.0000000000\n",
       "2019-05-01  0.0364035342\n",
       "2019-06-01 -0.0680140918\n",
       "2019-07-01  0.0799118601\n",
       "2019-08-01  0.0029986291\n",
       "2019-09-01 -0.0239269800\n",
       "2019-10-01  0.0256719404\n",
       "2019-11-01  0.0224654809\n",
       "2019-12-01  0.0305272617\n",
       "2020-01-01  0.0320689031\n",
       "2020-02-01 -0.0027768648\n",
       "2020-03-01 -0.0807810122\n",
       "2020-04-01 -0.1601059572\n",
       "2020-05-01  0.0000000000\n",
       "2020-06-01  0.0000000000\n",
       "2020-07-01  0.0000000000\n",
       "2020-08-01  0.0587072727\n",
       "2020-09-01  0.0666552922\n",
       "2020-10-01 -0.0346605576\n",
       "2020-11-01 -0.0264836402\n",
       "2020-12-01  0.1060828139\n",
       "2021-01-01  0.0325683544\n",
       "2021-02-01 -0.0088827753\n",
       "2021-03-01  0.0298405300\n",
       "2021-04-01  0.0391072552\n",
       "2021-05-01  0.0498900389\n",
       "2021-06-01  0.0058540449\n",
       "2021-07-01  0.0199714363\n",
       "2021-08-01  0.0246771788\n",
       "2021-09-01  0.0276704831\n",
       "2021-10-01 -0.0467319505\n",
       "2021-11-01  0.0679752315\n",
       "2021-12-01 -0.0016918099\n",
       "2022-01-01  0.0380897622\n",
       "2022-02-01 -0.0541152635\n",
       "2022-03-01 -0.0346116320\n",
       "2022-04-01  0.0406082963\n",
       "2022-05-01 -0.0902381279\n",
       "2022-06-01  0.0000000000\n",
       "2022-07-01  0.0000000000\n",
       "2022-08-01  0.0000000000\n",
       "2022-09-01  0.0000000000\n",
       "2022-10-01  0.0000000000\n",
       "2022-11-01  0.0000000000\n",
       "2022-12-01  0.0000000000\n",
       "2023-01-01  0.0000000000\n",
       "2023-02-01  0.0000000000\n",
       "2023-03-01  0.0000000000\n",
       "2023-04-01  0.0000000000\n",
       "2023-05-01  0.0157451710\n",
       "2023-06-01  0.0038974237\n",
       "2023-07-01  0.0639369570\n",
       "2023-08-01  0.0288396079"
      ]
     },
     "metadata": {},
     "output_type": "display_data"
    }
   ],
   "source": [
    "# calculating the monthly returns for strategy_c\n",
    "strategy_returns_c <- investment_strategy_c * c(0, diff(sp_500_c$Open)) / lag(sp_500_c$Open)\n",
    "\n",
    "sp_500_c$Date <- as.Date(sp_500_c$Date)\n",
    "strategy_returns_c <- xts(strategy_returns_c, order.by = sp_500_c$Date)\n",
    "\n",
    "cat(\"monthly returs of strategy_c :\", \"\\n\")\n",
    "strategy_returns_c"
   ]
  },
  {
   "cell_type": "code",
   "execution_count": 26,
   "id": "148102ee",
   "metadata": {},
   "outputs": [
    {
     "name": "stdout",
     "output_type": "stream",
     "text": [
      "performance parameters of strategy_c : \n",
      "$Max_Drawdown\n",
      "[1] 0.5121146\n",
      "\n",
      "$Cumulative_Return\n",
      "[1] 218.9599\n",
      "\n",
      "$Annualized_Return\n",
      "[1] 4.839394\n",
      "\n",
      "$Annualized_Risk\n",
      "[1] 0.1178937\n",
      "\n",
      "$Sharpe_Ratio\n",
      "[1] 0.410488\n",
      "\n"
     ]
    }
   ],
   "source": [
    "#calculating the performance measures:\n",
    "\n",
    "performance_params_c <- calculate_performance_parameters(strategy_returns_c, risk_free_rate)\n",
    "\n",
    "# Print the results\n",
    "cat(\"performance parameters of strategy_c :\", \"\\n\")\n",
    "print(performance_params_c)"
   ]
  },
  {
   "cell_type": "code",
   "execution_count": 27,
   "id": "f6ff76bb",
   "metadata": {},
   "outputs": [
    {
     "data": {
      "image/png": "[encoded data removed]",
      "text/plain": [
       "plot without title"
      ]
     },
     "metadata": {},
     "output_type": "display_data"
    },
    {
     "data": {
      "text/html": [
       "-0.512114581097168"
      ],
      "text/latex": [
       "-0.512114581097168"
      ],
      "text/markdown": [
       "-0.512114581097168"
      ],
      "text/plain": [
       "[1] -0.5121146"
      ]
     },
     "metadata": {},
     "output_type": "display_data"
    },
    {
     "data": {
      "image/png": "[encoded data removed]",
      "text/plain": [
       "Plot with title \"Monthly Returns of strategy_c\""
      ]
     },
     "metadata": {},
     "output_type": "display_data"
    },
    {
     "data": {
      "image/png": "[encoded data removed]",
      "text/plain": [
       "Plot with title \"Monthly Drawdown for Strategy_c\""
      ]
     },
     "metadata": {},
     "output_type": "display_data"
    }
   ],
   "source": [
    "# plotting the commulative returns, monthly returns and drawdowns for strategy_c\n",
    "strategy_returns_c[is.na(strategy_returns_c)] <- 0    #replacing initial NA by 0 to avoid plotting errors\n",
    "#1.commulative returns\n",
    "cumulative_returns_cc <- cumprod(1 + strategy_returns_c)\n",
    "plot(cumulative_returns_cc, type = \"l\", col = \"blue\", xlab = \"Date\", ylab = \"Value\", main = \"Commulative Returns of strategy_c\")\n",
    "\n",
    "#2.monthly returns\n",
    "barplot(strategy_returns_c, col = \"blue\", \n",
    "        xlab = \"Month\", ylab = \"Monthly Returns\", \n",
    "        main = \"Monthly Returns of strategy_c\")\n",
    "\n",
    "#3. Calculating maximum cumulative returns up to each month\n",
    "max_cumulative_returns_cc <- cummax(cumulative_returns_cc)\n",
    "\n",
    "# Calculating drawdown as the difference between cumulative returns and max cumulative returns\n",
    "drawdown_cc <- cumulative_returns_cc - max_cumulative_returns_cc\n",
    "max_drawdown_cc <- min(drawdown_cc)\n",
    "max_drawdown_cc\n",
    "\n",
    "# Creating a sequence of months for plotting\n",
    "months <- seq(from = 1, to = length(drawdown_cc), by = 1)\n",
    "\n",
    "# Plotting the drawdown for strategy_c\n",
    "plot(months, drawdown_cc, type = \"l\", col = \"blue\",\n",
    "     xlab = \"Month\", ylab = \"Drawdown\",\n",
    "     main = \"Monthly Drawdown for Strategy_c\", xaxt = \"n\")"
   ]
  },
  {
   "cell_type": "markdown",
   "id": "837f707b",
   "metadata": {},
   "source": [
    "strategy d : remain invested throughout (benchmark)"
   ]
  },
  {
   "cell_type": "code",
   "execution_count": 28,
   "id": "5d681c01",
   "metadata": {},
   "outputs": [
    {
     "name": "stdout",
     "output_type": "stream",
     "text": [
      "monthly investment decisions of strategy_d : \n",
      "  [1] 1 1 1 1 1 1 1 1 1 1 1 1 1 1 1 1 1 1 1 1 1 1 1 1 1 1 1 1 1 1 1 1 1 1 1 1 1\n",
      " [38] 1 1 1 1 1 1 1 1 1 1 1 1 1 1 1 1 1 1 1 1 1 1 1 1 1 1 1 1 1 1 1 1 1 1 1 1 1\n",
      " [75] 1 1 1 1 1 1 1 1 1 1 1 1 1 1 1 1 1 1 1 1 1 1 1 1 1 1 1 1 1 1 1 1 1 1 1 1 1\n",
      "[112] 1 1 1 1 1 1 1 1 1 1 1 1 1 1 1 1 1 1 1 1 1 1 1 1 1 1 1 1 1 1 1 1 1 1 1 1 1\n",
      "[149] 1 1 1 1 1 1 1 1 1 1 1 1 1 1 1 1 1 1 1 1 1 1 1 1 1 1 1 1 1 1 1 1 1 1 1 1 1\n",
      "[186] 1 1 1 1 1 1 1 1 1 1 1 1 1 1 1\n"
     ]
    }
   ],
   "source": [
    "# here the strategy will be represented by 1 vector \n",
    "investment_strategy_d <- rep(1, length(investment_strategy_a))\n",
    "\n",
    "cat(\"monthly investment decisions of strategy_d :\", \"\\n\")\n",
    "print(investment_strategy_d)"
   ]
  },
  {
   "cell_type": "code",
   "execution_count": 29,
   "id": "e936069c",
   "metadata": {},
   "outputs": [
    {
     "name": "stdout",
     "output_type": "stream",
     "text": [
      "monthly returs of strategy_d : \n"
     ]
    },
    {
     "data": {
      "text/plain": [
       "                    [,1]\n",
       "2007-01-01            NA\n",
       "2007-02-01  1.401239e-02\n",
       "2007-03-01 -2.162875e-02\n",
       "2007-04-01  9.972922e-03\n",
       "2007-05-01  4.331274e-02\n",
       "2007-06-01  3.254923e-02\n",
       "2007-07-01 -1.696042e-02\n",
       "2007-08-01 -3.288449e-02\n",
       "2007-09-01  1.290556e-02\n",
       "2007-10-01  3.618150e-02\n",
       "2007-11-01  1.211296e-02\n",
       "2007-12-01 -4.280014e-02\n",
       "2008-01-01 -7.880372e-03\n",
       "2008-02-01 -6.087999e-02\n",
       "2008-03-01 -3.492676e-02\n",
       "2008-04-01 -3.036504e-03\n",
       "2008-05-01  4.490311e-02\n",
       "2008-06-01  9.848716e-03\n",
       "2008-07-01 -8.783102e-02\n",
       "2008-08-01 -5.694333e-03\n",
       "2008-09-01  1.450262e-02\n",
       "2008-10-01 -9.602193e-02\n",
       "2008-11-01 -1.679308e-01\n",
       "2008-12-01 -8.264940e-02\n",
       "2009-01-01  1.618258e-02\n",
       "2009-02-01 -8.848378e-02\n",
       "2009-03-01 -1.136206e-01\n",
       "2009-04-01  8.775034e-02\n",
       "2009-05-01  9.973659e-02\n",
       "2009-06-01  5.788668e-02\n",
       "2009-07-01 -2.642812e-03\n",
       "2009-08-01  7.536757e-02\n",
       "2009-09-01  2.958943e-02\n",
       "2009-10-01  3.471243e-02\n",
       "2009-11-01 -1.775505e-02\n",
       "2009-12-01  6.052033e-02\n",
       "2010-01-01  1.607990e-02\n",
       "2010-02-01 -3.821563e-02\n",
       "2010-03-01  2.930465e-02\n",
       "2010-04-01  5.959144e-02\n",
       "2010-05-01  1.481347e-02\n",
       "2010-06-01 -8.521085e-02\n",
       "2010-07-01 -5.168773e-02\n",
       "2010-08-01  7.412478e-02\n",
       "2010-09-01 -5.219728e-02\n",
       "2010-10-01  8.932860e-02\n",
       "2010-11-01  3.692203e-02\n",
       "2010-12-01  7.506175e-04\n",
       "2011-01-01  5.985169e-02\n",
       "2011-02-01  2.506323e-02\n",
       "2011-03-01  3.064058e-02\n",
       "2011-04-01  6.321997e-04\n",
       "2011-05-01  2.687515e-02\n",
       "2011-06-01 -1.465709e-02\n",
       "2011-07-01 -1.825746e-02\n",
       "2011-08-01 -2.123974e-02\n",
       "2011-09-01 -5.683935e-02\n",
       "2011-10-01 -7.210942e-02\n",
       "2011-11-01  1.058955e-01\n",
       "2011-12-01 -3.269357e-03\n",
       "2012-01-01  9.583651e-03\n",
       "2012-02-01  4.257024e-02\n",
       "2012-03-01  4.072542e-02\n",
       "2012-04-01  3.116622e-02\n",
       "2012-05-01 -7.532987e-03\n",
       "2012-06-01 -6.294621e-02\n",
       "2012-07-01  4.004975e-02\n",
       "2012-08-01  1.247127e-02\n",
       "2012-09-01  1.973443e-02\n",
       "2012-10-01  2.442873e-02\n",
       "2012-11-01 -1.991816e-02\n",
       "2012-12-01  2.931607e-03\n",
       "2013-01-01  6.954528e-03\n",
       "2013-02-01  5.042810e-02\n",
       "2013-03-01  1.106065e-02\n",
       "2013-04-01  3.598120e-02\n",
       "2013-05-01  1.807950e-02\n",
       "2013-06-01  2.138269e-02\n",
       "2013-07-01 -1.343985e-02\n",
       "2013-08-01  4.947261e-02\n",
       "2013-09-01 -3.164997e-02\n",
       "2013-10-01  2.839945e-02\n",
       "2013-11-01  4.534561e-02\n",
       "2013-12-01  2.720765e-02\n",
       "2014-01-01  2.175967e-02\n",
       "2014-02-01 -3.422791e-02\n",
       "2014-03-01  4.207149e-02\n",
       "2014-04-01  8.763569e-03\n",
       "2014-05-01  5.565783e-03\n",
       "2014-06-01  2.095107e-02\n",
       "2014-07-01  1.997019e-02\n",
       "2014-08-01 -1.655718e-02\n",
       "2014-09-01  3.848580e-02\n",
       "2014-10-01 -1.628187e-02\n",
       "2014-11-01  2.372379e-02\n",
       "2014-12-01  2.357043e-02\n",
       "2015-01-01 -3.330523e-03\n",
       "2015-02-01 -3.022481e-02\n",
       "2015-03-01  5.437049e-02\n",
       "2015-04-01 -1.786033e-02\n",
       "2015-05-01  9.552000e-03\n",
       "2015-06-01  1.018502e-02\n",
       "2015-07-01 -1.974728e-02\n",
       "2015-08-01  1.813739e-02\n",
       "2015-09-01 -6.386347e-02\n",
       "2015-10-01 -2.560286e-02\n",
       "2015-11-01  8.392675e-02\n",
       "2015-12-01  1.042851e-03\n",
       "2016-01-01 -2.147455e-02\n",
       "2016-02-01 -4.968110e-02\n",
       "2016-03-01  7.745434e-05\n",
       "2016-04-01  6.170604e-02\n",
       "2016-05-01  5.129681e-03\n",
       "2016-06-01  1.295008e-02\n",
       "2016-07-01  2.578940e-03\n",
       "2016-08-01  3.515858e-02\n",
       "2016-09-01 -8.374131e-04\n",
       "2016-10-01 -3.223830e-03\n",
       "2016-11-01 -1.647168e-02\n",
       "2016-12-01  3.358419e-02\n",
       "2017-01-01  2.336190e-02\n",
       "2017-02-01  1.510947e-02\n",
       "2017-03-01  4.136341e-02\n",
       "2017-04-01 -7.474296e-03\n",
       "2017-05-01  1.107373e-02\n",
       "2017-06-01  1.136693e-02\n",
       "2017-07-01  6.515841e-03\n",
       "2017-08-01  1.880003e-02\n",
       "2017-09-01 -1.081981e-03\n",
       "2017-10-01  1.890545e-02\n",
       "2017-11-01  2.459544e-02\n",
       "2017-12-01  2.395862e-02\n",
       "2018-01-01  1.460432e-02\n",
       "2018-02-01  4.945355e-02\n",
       "2018-03-01 -3.594240e-02\n",
       "2018-04-01 -3.011543e-02\n",
       "2018-05-01  3.611236e-03\n",
       "2018-06-01  2.865726e-02\n",
       "2018-07-01 -5.057564e-03\n",
       "2018-08-01  4.296566e-02\n",
       "2018-09-01  2.686476e-02\n",
       "2018-10-01  1.012443e-02\n",
       "2018-11-01 -7.132238e-02\n",
       "2018-12-01  2.683267e-02\n",
       "2019-01-01 -1.123598e-01\n",
       "2019-02-01  9.098254e-02\n",
       "2019-03-01  3.548799e-02\n",
       "2019-04-01  1.801499e-02\n",
       "2019-05-01  3.640353e-02\n",
       "2019-06-01 -6.801409e-02\n",
       "2019-07-01  7.991186e-02\n",
       "2019-08-01  2.998629e-03\n",
       "2019-09-01 -2.392698e-02\n",
       "2019-10-01  2.567194e-02\n",
       "2019-11-01  2.246548e-02\n",
       "2019-12-01  3.052726e-02\n",
       "2020-01-01  3.206890e-02\n",
       "2020-02-01 -2.776865e-03\n",
       "2020-03-01 -8.078101e-02\n",
       "2020-04-01 -1.601060e-01\n",
       "2020-05-01  1.485181e-01\n",
       "2020-06-01  5.914417e-02\n",
       "2020-07-01  2.209436e-02\n",
       "2020-08-01  5.870727e-02\n",
       "2020-09-01  6.665529e-02\n",
       "2020-10-01 -3.466056e-02\n",
       "2020-11-01 -2.648364e-02\n",
       "2020-12-01  1.060828e-01\n",
       "2021-01-01  3.256835e-02\n",
       "2021-02-01 -8.882775e-03\n",
       "2021-03-01  2.984053e-02\n",
       "2021-04-01  3.910726e-02\n",
       "2021-05-01  4.989004e-02\n",
       "2021-06-01  5.854045e-03\n",
       "2021-07-01  1.997144e-02\n",
       "2021-08-01  2.467718e-02\n",
       "2021-09-01  2.767048e-02\n",
       "2021-10-01 -4.673195e-02\n",
       "2021-11-01  6.797523e-02\n",
       "2021-12-01 -1.691810e-03\n",
       "2022-01-01  3.808976e-02\n",
       "2022-02-01 -5.411526e-02\n",
       "2022-03-01 -3.461163e-02\n",
       "2022-04-01  4.060830e-02\n",
       "2022-05-01 -9.023813e-02\n",
       "2022-06-01  4.640942e-03\n",
       "2022-07-01 -8.886731e-02\n",
       "2022-08-01  8.764345e-02\n",
       "2022-09-01 -4.271247e-02\n",
       "2022-10-01 -8.305115e-02\n",
       "2022-11-01  8.089413e-02\n",
       "2022-12-01  4.750380e-02\n",
       "2023-01-01 -5.721601e-02\n",
       "2023-02-01  5.625843e-02\n",
       "2023-03-01 -2.622313e-02\n",
       "2023-04-01  3.503613e-02\n",
       "2023-05-01  1.574517e-02\n",
       "2023-06-01  3.897424e-03\n",
       "2023-07-01  6.393696e-02\n",
       "2023-08-01  2.883961e-02"
      ]
     },
     "metadata": {},
     "output_type": "display_data"
    }
   ],
   "source": [
    "#using sp_500_a for this strategy\n",
    "sp_500_d <- sp_500_a\n",
    "\n",
    "#calculating monthly returns for strategy_d\n",
    "strategy_returns_d <- investment_strategy_d * c(0, diff(sp_500_d$Open)) / lag(sp_500_d$Open)\n",
    "\n",
    "strategy_returns_d <- xts(strategy_returns_d, order.by = sp_500_d$Date)\n",
    "\n",
    "cat(\"monthly returs of strategy_d :\", \"\\n\")\n",
    "strategy_returns_d"
   ]
  },
  {
   "cell_type": "code",
   "execution_count": 30,
   "id": "a72ff7b9",
   "metadata": {},
   "outputs": [
    {
     "name": "stdout",
     "output_type": "stream",
     "text": [
      "performance parameters of strategy_d : \n",
      "$Max_Drawdown\n",
      "[1] 0.8239319\n",
      "\n",
      "$Cumulative_Return\n",
      "[1] 322.9008\n",
      "\n",
      "$Annualized_Return\n",
      "[1] 7.28627\n",
      "\n",
      "$Annualized_Risk\n",
      "[1] 0.1634882\n",
      "\n",
      "$Sharpe_Ratio\n",
      "[1] 0.4456757\n",
      "\n"
     ]
    }
   ],
   "source": [
    "# performance measures\n",
    "strategy_returns_d[is.na(strategy_returns_d)] <- 0    #replacing initial NA by 0\n",
    "performance_params_d <- calculate_performance_parameters(strategy_returns_d,risk_free_rate)\n",
    "\n",
    "# Printing the results\n",
    "cat(\"performance parameters of strategy_d :\", \"\\n\")\n",
    "print(performance_params_d)"
   ]
  },
  {
   "cell_type": "code",
   "execution_count": 31,
   "id": "fdedf237",
   "metadata": {},
   "outputs": [
    {
     "data": {
      "image/png": "[encoded data removed]",
      "text/plain": [
       "plot without title"
      ]
     },
     "metadata": {},
     "output_type": "display_data"
    },
    {
     "data": {
      "text/html": [
       "-0.823931851429974"
      ],
      "text/latex": [
       "-0.823931851429974"
      ],
      "text/markdown": [
       "-0.823931851429974"
      ],
      "text/plain": [
       "[1] -0.8239319"
      ]
     },
     "metadata": {},
     "output_type": "display_data"
    },
    {
     "data": {
      "image/png": "[encoded data removed]",
      "text/plain": [
       "Plot with title \"Monthly Returns as Bar Plot\""
      ]
     },
     "metadata": {},
     "output_type": "display_data"
    },
    {
     "data": {
      "image/png": "[encoded data removed]",
      "text/plain": [
       "Plot with title \"Monthly Drawdown for Strategy_d\""
      ]
     },
     "metadata": {},
     "output_type": "display_data"
    }
   ],
   "source": [
    "# plotting the commulative returns, monthly returns and drawdowns for strategy_d\n",
    "\n",
    "#1.commulative returns\n",
    "cumulative_returns_dd <- cumprod(1 + strategy_returns_d)\n",
    "plot(cumulative_returns_dd, type = \"l\", col = \"blue\", xlab = \"Date\", ylab = \"Value\", main = \"Commulative Returns Plot\")\n",
    "\n",
    "#2.monthly returns\n",
    "barplot(strategy_returns_d, col = \"blue\", \n",
    "        xlab = \"Month\", ylab = \"Monthly Returns\", \n",
    "        main = \"Monthly Returns as Bar Plot\")\n",
    "\n",
    "#3. Calculating maximum cumulative returns up to each month\n",
    "max_cumulative_returns_dd <- cummax(cumulative_returns_dd)\n",
    "\n",
    "# Calculating drawdown as the difference between cumulative returns and max cumulative returns\n",
    "drawdown_dd <- cumulative_returns_dd - max_cumulative_returns_dd\n",
    "max_drawdown_dd <- min(drawdown_dd)\n",
    "max_drawdown_dd\n",
    "\n",
    "# Creating a sequence of months for plotting\n",
    "months <- seq(from = 1, to = length(drawdown_dd), by = 1)\n",
    "\n",
    "# Plotting the drawdown for strategy_d\n",
    "plot(months, drawdown_dd, type = \"l\", col = \"blue\",\n",
    "     xlab = \"Month\", ylab = \"Drawdown\",\n",
    "     main = \"Monthly Drawdown for Strategy_d\", xaxt = \"n\")"
   ]
  },
  {
   "cell_type": "markdown",
   "id": "dc032361",
   "metadata": {},
   "source": [
    "Strategy_e : Here we will try to implement the econoic trend paper where they assigned equal weights to changes in S&P500\n",
    "and credit spreads for the risk aversion indicator. \n",
    "\n",
    "We will incorporate this as follows:\n",
    "will give wt=1 if any column except (3m-12m moving_avg of credit spread) and (3m-12m moving_avg ofS&P500) is positive for current month. Will 0.5 weight to these two columns if they are +ve for current month.\n",
    "\n",
    "Investment strategy will be same as that of strategy_b , we will use the same indicators as that of strategy_b and one extra indicator of (3m-12m moving_avg ofS&P500). and here also the threshold will be >=3 (for now)"
   ]
  },
  {
   "cell_type": "code",
   "execution_count": 32,
   "id": "63764afd",
   "metadata": {},
   "outputs": [
    {
     "name": "stdout",
     "output_type": "stream",
     "text": [
      " initial rows of selected indicators for this strategy : \n"
     ]
    },
    {
     "data": {
      "text/html": [
       "<table>\n",
       "<thead><tr><th scope=col>date</th><th scope=col>indicator_1</th><th scope=col>indicator_2b</th><th scope=col>indicator_3b</th><th scope=col>indicator_4b</th><th scope=col>indicator_5b</th><th scope=col>indicator_p</th></tr></thead>\n",
       "<tbody>\n",
       "\t<tr><td>2007-02-01</td><td>-0.48     </td><td>0.9469720 </td><td>1.0508500 </td><td>-0.3912500</td><td>0.2259669 </td><td>79.73083  </td></tr>\n",
       "\t<tr><td>2007-03-01</td><td> 0.19     </td><td>1.1716580 </td><td>0.8352500 </td><td>-0.3216667</td><td>0.3395919 </td><td>86.62583  </td></tr>\n",
       "\t<tr><td>2007-04-01</td><td> 0.23     </td><td>1.0236103 </td><td>0.4783250 </td><td>-0.2533333</td><td>0.3514924 </td><td>78.17085  </td></tr>\n",
       "\t<tr><td>2007-05-01</td><td>-0.11     </td><td>0.7938081 </td><td>0.8695833 </td><td>-0.1891667</td><td>0.3336249 </td><td>69.27499  </td></tr>\n",
       "\t<tr><td>2007-06-01</td><td> 0.03     </td><td>0.6636358 </td><td>1.5551083 </td><td>-0.1470833</td><td>0.3140452 </td><td>69.78498  </td></tr>\n",
       "\t<tr><td>2007-07-01</td><td>-0.05     </td><td>0.6418270 </td><td>2.0567583 </td><td>-0.1429167</td><td>0.3407876 </td><td>89.34414  </td></tr>\n",
       "</tbody>\n",
       "</table>\n"
      ],
      "text/latex": [
       "\\begin{tabular}{r|lllllll}\n",
       " date & indicator\\_1 & indicator\\_2b & indicator\\_3b & indicator\\_4b & indicator\\_5b & indicator\\_p\\\\\n",
       "\\hline\n",
       "\t 2007-02-01 & -0.48      & 0.9469720  & 1.0508500  & -0.3912500 & 0.2259669  & 79.73083  \\\\\n",
       "\t 2007-03-01 &  0.19      & 1.1716580  & 0.8352500  & -0.3216667 & 0.3395919  & 86.62583  \\\\\n",
       "\t 2007-04-01 &  0.23      & 1.0236103  & 0.4783250  & -0.2533333 & 0.3514924  & 78.17085  \\\\\n",
       "\t 2007-05-01 & -0.11      & 0.7938081  & 0.8695833  & -0.1891667 & 0.3336249  & 69.27499  \\\\\n",
       "\t 2007-06-01 &  0.03      & 0.6636358  & 1.5551083  & -0.1470833 & 0.3140452  & 69.78498  \\\\\n",
       "\t 2007-07-01 & -0.05      & 0.6418270  & 2.0567583  & -0.1429167 & 0.3407876  & 89.34414  \\\\\n",
       "\\end{tabular}\n"
      ],
      "text/markdown": [
       "\n",
       "| date | indicator_1 | indicator_2b | indicator_3b | indicator_4b | indicator_5b | indicator_p |\n",
       "|---|---|---|---|---|---|---|\n",
       "| 2007-02-01 | -0.48      | 0.9469720  | 1.0508500  | -0.3912500 | 0.2259669  | 79.73083   |\n",
       "| 2007-03-01 |  0.19      | 1.1716580  | 0.8352500  | -0.3216667 | 0.3395919  | 86.62583   |\n",
       "| 2007-04-01 |  0.23      | 1.0236103  | 0.4783250  | -0.2533333 | 0.3514924  | 78.17085   |\n",
       "| 2007-05-01 | -0.11      | 0.7938081  | 0.8695833  | -0.1891667 | 0.3336249  | 69.27499   |\n",
       "| 2007-06-01 |  0.03      | 0.6636358  | 1.5551083  | -0.1470833 | 0.3140452  | 69.78498   |\n",
       "| 2007-07-01 | -0.05      | 0.6418270  | 2.0567583  | -0.1429167 | 0.3407876  | 89.34414   |\n",
       "\n"
      ],
      "text/plain": [
       "  date       indicator_1 indicator_2b indicator_3b indicator_4b indicator_5b\n",
       "1 2007-02-01 -0.48       0.9469720    1.0508500    -0.3912500   0.2259669   \n",
       "2 2007-03-01  0.19       1.1716580    0.8352500    -0.3216667   0.3395919   \n",
       "3 2007-04-01  0.23       1.0236103    0.4783250    -0.2533333   0.3514924   \n",
       "4 2007-05-01 -0.11       0.7938081    0.8695833    -0.1891667   0.3336249   \n",
       "5 2007-06-01  0.03       0.6636358    1.5551083    -0.1470833   0.3140452   \n",
       "6 2007-07-01 -0.05       0.6418270    2.0567583    -0.1429167   0.3407876   \n",
       "  indicator_p\n",
       "1 79.73083   \n",
       "2 86.62583   \n",
       "3 78.17085   \n",
       "4 69.27499   \n",
       "5 69.78498   \n",
       "6 89.34414   "
      ]
     },
     "metadata": {},
     "output_type": "display_data"
    }
   ],
   "source": [
    "indicator_p <- na.omit(sp_500_c$indicator_p)   #this column was made in strategy_c and it is what we want for strategy_e\n",
    "Indicators_data_selected_e <- cbind(Indicators_data_selected_b, indicator_p)   #creating the indicator data for strategy_e\n",
    "\n",
    "cat(\" initial rows of selected indicators for this strategy :\", \"\\n\")\n",
    "head(Indicators_data_selected_e)"
   ]
  },
  {
   "cell_type": "code",
   "execution_count": 33,
   "id": "989f20b4",
   "metadata": {},
   "outputs": [
    {
     "name": "stdout",
     "output_type": "stream",
     "text": [
      "monthly investment decisions of this strategy : \n",
      "  [1] 0 1 1 1 1 1 1 1 1 1 1 1 1 1 0 0 0 0 0 0 0 0 0 0 0 0 0 0 0 0 1 1 1 1 1 1 1\n",
      " [38] 1 1 1 1 1 1 1 0 0 1 1 1 1 1 1 1 1 1 1 1 1 0 0 0 0 0 1 1 1 1 1 1 1 1 1 1 1\n",
      " [75] 1 1 1 1 1 1 1 1 1 1 1 1 1 1 1 1 1 1 0 1 0 0 1 0 0 0 0 0 0 1 0 0 0 0 0 1 0\n",
      "[112] 0 0 0 1 1 1 0 0 0 1 0 0 0 1 0 1 1 1 1 1 1 1 1 1 1 1 1 1 1 1 0 0 0 0 0 0 0\n",
      "[149] 0 1 1 1 1 1 1 1 1 1 1 1 0 1 1 1 1 1 1 1 1 1 1 1 1 1 1 1 1 1 1 1 1 1 0 0 0\n",
      "[186] 0 0 0 0 0 0 0 0 0 0 1 1 1 1 1\n"
     ]
    }
   ],
   "source": [
    "# Define the minimum number of positive indicators required to invest\n",
    "min_positive_indicators <- 3\n",
    "\n",
    "# Creating a weight vector for the columns I want to assign a weight of 0.5 (order should be same)\n",
    "weight_vector <- c(1, 1, 1, 1, 0.5, 0.5) \n",
    "\n",
    "# Calculating a binary vector for monthly investment decisions with weighted columns\n",
    "investment_strategy_e <- Indicators_data_selected_e %>%\n",
    "  mutate(positive_indicators = rowSums(select(., starts_with(\"indicator\")) > 0)) %>%\n",
    "  mutate(invest = ifelse(positive_indicators >= min_positive_indicators, 1, 0)) %>%\n",
    "  pull(invest)\n",
    "\n",
    "# Inserting 0 in the front, so that length is same as the return vector and it means that we are not investing in 2007/01/01\n",
    "investment_strategy_e <- c(0, investment_strategy_e)\n",
    "\n",
    "# Printing the binary vector\n",
    "cat(\"monthly investment decisions of this strategy :\", \"\\n\")\n",
    "print(investment_strategy_e)"
   ]
  },
  {
   "cell_type": "code",
   "execution_count": 34,
   "id": "08604021",
   "metadata": {},
   "outputs": [],
   "source": [
    "#using the same sp_500_a dataframe to calculate the monthly return\n",
    "sp_500_e<- sp_500_a"
   ]
  },
  {
   "cell_type": "code",
   "execution_count": 35,
   "id": "4136612c",
   "metadata": {},
   "outputs": [
    {
     "name": "stdout",
     "output_type": "stream",
     "text": [
      "monthly returs of this strategy : \n"
     ]
    },
    {
     "data": {
      "text/plain": [
       "                    [,1]\n",
       "2007-01-01            NA\n",
       "2007-02-01  0.0140123937\n",
       "2007-03-01 -0.0216287468\n",
       "2007-04-01  0.0099729220\n",
       "2007-05-01  0.0433127404\n",
       "2007-06-01  0.0325492287\n",
       "2007-07-01 -0.0169604219\n",
       "2007-08-01 -0.0328844917\n",
       "2007-09-01  0.0129055557\n",
       "2007-10-01  0.0361814971\n",
       "2007-11-01  0.0121129579\n",
       "2007-12-01 -0.0428001427\n",
       "2008-01-01 -0.0078803715\n",
       "2008-02-01 -0.0608799886\n",
       "2008-03-01  0.0000000000\n",
       "2008-04-01  0.0000000000\n",
       "2008-05-01  0.0000000000\n",
       "2008-06-01  0.0000000000\n",
       "2008-07-01  0.0000000000\n",
       "2008-08-01  0.0000000000\n",
       "2008-09-01  0.0000000000\n",
       "2008-10-01  0.0000000000\n",
       "2008-11-01  0.0000000000\n",
       "2008-12-01  0.0000000000\n",
       "2009-01-01  0.0000000000\n",
       "2009-02-01  0.0000000000\n",
       "2009-03-01  0.0000000000\n",
       "2009-04-01  0.0000000000\n",
       "2009-05-01  0.0000000000\n",
       "2009-06-01  0.0000000000\n",
       "2009-07-01 -0.0026428118\n",
       "2009-08-01  0.0753675668\n",
       "2009-09-01  0.0295894344\n",
       "2009-10-01  0.0347124274\n",
       "2009-11-01 -0.0177550501\n",
       "2009-12-01  0.0605203321\n",
       "2010-01-01  0.0160799022\n",
       "2010-02-01 -0.0382156281\n",
       "2010-03-01  0.0293046497\n",
       "2010-04-01  0.0595914417\n",
       "2010-05-01  0.0148134661\n",
       "2010-06-01 -0.0852108491\n",
       "2010-07-01 -0.0516877317\n",
       "2010-08-01  0.0741247750\n",
       "2010-09-01  0.0000000000\n",
       "2010-10-01  0.0000000000\n",
       "2010-11-01  0.0369220291\n",
       "2010-12-01  0.0007506175\n",
       "2011-01-01  0.0598516948\n",
       "2011-02-01  0.0250632303\n",
       "2011-03-01  0.0306405817\n",
       "2011-04-01  0.0006321997\n",
       "2011-05-01  0.0268751549\n",
       "2011-06-01 -0.0146570933\n",
       "2011-07-01 -0.0182574617\n",
       "2011-08-01 -0.0212397387\n",
       "2011-09-01 -0.0568393479\n",
       "2011-10-01 -0.0721094187\n",
       "2011-11-01  0.0000000000\n",
       "2011-12-01  0.0000000000\n",
       "2012-01-01  0.0000000000\n",
       "2012-02-01  0.0000000000\n",
       "2012-03-01  0.0000000000\n",
       "2012-04-01  0.0311662241\n",
       "2012-05-01 -0.0075329866\n",
       "2012-06-01 -0.0629462115\n",
       "2012-07-01  0.0400497463\n",
       "2012-08-01  0.0124712741\n",
       "2012-09-01  0.0197344299\n",
       "2012-10-01  0.0244287289\n",
       "2012-11-01 -0.0199181572\n",
       "2012-12-01  0.0029316066\n",
       "2013-01-01  0.0069545277\n",
       "2013-02-01  0.0504280965\n",
       "2013-03-01  0.0110606488\n",
       "2013-04-01  0.0359811961\n",
       "2013-05-01  0.0180795028\n",
       "2013-06-01  0.0213826867\n",
       "2013-07-01 -0.0134398466\n",
       "2013-08-01  0.0494726069\n",
       "2013-09-01 -0.0316499694\n",
       "2013-10-01  0.0283994525\n",
       "2013-11-01  0.0453456146\n",
       "2013-12-01  0.0272076528\n",
       "2014-01-01  0.0217596720\n",
       "2014-02-01 -0.0342279112\n",
       "2014-03-01  0.0420714866\n",
       "2014-04-01  0.0087635689\n",
       "2014-05-01  0.0055657826\n",
       "2014-06-01  0.0209510665\n",
       "2014-07-01  0.0199701872\n",
       "2014-08-01 -0.0165571804\n",
       "2014-09-01  0.0000000000\n",
       "2014-10-01 -0.0162818693\n",
       "2014-11-01  0.0000000000\n",
       "2014-12-01  0.0000000000\n",
       "2015-01-01 -0.0033305225\n",
       "2015-02-01  0.0000000000\n",
       "2015-03-01  0.0000000000\n",
       "2015-04-01  0.0000000000\n",
       "2015-05-01  0.0000000000\n",
       "2015-06-01  0.0000000000\n",
       "2015-07-01  0.0000000000\n",
       "2015-08-01  0.0181373925\n",
       "2015-09-01  0.0000000000\n",
       "2015-10-01  0.0000000000\n",
       "2015-11-01  0.0000000000\n",
       "2015-12-01  0.0000000000\n",
       "2016-01-01  0.0000000000\n",
       "2016-02-01 -0.0496810971\n",
       "2016-03-01  0.0000000000\n",
       "2016-04-01  0.0000000000\n",
       "2016-05-01  0.0000000000\n",
       "2016-06-01  0.0000000000\n",
       "2016-07-01  0.0025789405\n",
       "2016-08-01  0.0351585791\n",
       "2016-09-01 -0.0008374131\n",
       "2016-10-01  0.0000000000\n",
       "2016-11-01  0.0000000000\n",
       "2016-12-01  0.0000000000\n",
       "2017-01-01  0.0233618985\n",
       "2017-02-01  0.0000000000\n",
       "2017-03-01  0.0000000000\n",
       "2017-04-01  0.0000000000\n",
       "2017-05-01  0.0110737282\n",
       "2017-06-01  0.0000000000\n",
       "2017-07-01  0.0065158408\n",
       "2017-08-01  0.0188000309\n",
       "2017-09-01 -0.0010819812\n",
       "2017-10-01  0.0189054529\n",
       "2017-11-01  0.0245954351\n",
       "2017-12-01  0.0239586165\n",
       "2018-01-01  0.0146043179\n",
       "2018-02-01  0.0494535485\n",
       "2018-03-01 -0.0359424035\n",
       "2018-04-01 -0.0301154309\n",
       "2018-05-01  0.0036112362\n",
       "2018-06-01  0.0286572598\n",
       "2018-07-01 -0.0050575644\n",
       "2018-08-01  0.0429656640\n",
       "2018-09-01  0.0268647551\n",
       "2018-10-01  0.0000000000\n",
       "2018-11-01  0.0000000000\n",
       "2018-12-01  0.0000000000\n",
       "2019-01-01  0.0000000000\n",
       "2019-02-01  0.0000000000\n",
       "2019-03-01  0.0000000000\n",
       "2019-04-01  0.0000000000\n",
       "2019-05-01  0.0000000000\n",
       "2019-06-01 -0.0680140918\n",
       "2019-07-01  0.0799118601\n",
       "2019-08-01  0.0029986291\n",
       "2019-09-01 -0.0239269800\n",
       "2019-10-01  0.0256719404\n",
       "2019-11-01  0.0224654809\n",
       "2019-12-01  0.0305272617\n",
       "2020-01-01  0.0320689031\n",
       "2020-02-01 -0.0027768648\n",
       "2020-03-01 -0.0807810122\n",
       "2020-04-01 -0.1601059572\n",
       "2020-05-01  0.0000000000\n",
       "2020-06-01  0.0591441663\n",
       "2020-07-01  0.0220943576\n",
       "2020-08-01  0.0587072727\n",
       "2020-09-01  0.0666552922\n",
       "2020-10-01 -0.0346605576\n",
       "2020-11-01 -0.0264836402\n",
       "2020-12-01  0.1060828139\n",
       "2021-01-01  0.0325683544\n",
       "2021-02-01 -0.0088827753\n",
       "2021-03-01  0.0298405300\n",
       "2021-04-01  0.0391072552\n",
       "2021-05-01  0.0498900389\n",
       "2021-06-01  0.0058540449\n",
       "2021-07-01  0.0199714363\n",
       "2021-08-01  0.0246771788\n",
       "2021-09-01  0.0276704831\n",
       "2021-10-01 -0.0467319505\n",
       "2021-11-01  0.0679752315\n",
       "2021-12-01 -0.0016918099\n",
       "2022-01-01  0.0380897622\n",
       "2022-02-01 -0.0541152635\n",
       "2022-03-01  0.0000000000\n",
       "2022-04-01  0.0000000000\n",
       "2022-05-01  0.0000000000\n",
       "2022-06-01  0.0000000000\n",
       "2022-07-01  0.0000000000\n",
       "2022-08-01  0.0000000000\n",
       "2022-09-01  0.0000000000\n",
       "2022-10-01  0.0000000000\n",
       "2022-11-01  0.0000000000\n",
       "2022-12-01  0.0000000000\n",
       "2023-01-01  0.0000000000\n",
       "2023-02-01  0.0000000000\n",
       "2023-03-01  0.0000000000\n",
       "2023-04-01  0.0350361322\n",
       "2023-05-01  0.0157451710\n",
       "2023-06-01  0.0038974237\n",
       "2023-07-01  0.0639369570\n",
       "2023-08-01  0.0288396079"
      ]
     },
     "metadata": {},
     "output_type": "display_data"
    }
   ],
   "source": [
    "# calculating monthly returns of strategy_e\n",
    "strategy_returns_e <- investment_strategy_e * c(0, diff(sp_500_e$Open)) / lag(sp_500_e$Open)\n",
    "\n",
    "# Converting the date column to a Date format\n",
    "sp_500_e$Date <- as.Date(sp_500_e$Date)\n",
    "\n",
    "# Creating an xts time series object\n",
    "strategy_returns_e <- xts(strategy_returns_e, order.by = sp_500_e$Date)\n",
    "\n",
    "cat(\"monthly returs of this strategy :\", \"\\n\")\n",
    "strategy_returns_e"
   ]
  },
  {
   "cell_type": "code",
   "execution_count": 36,
   "id": "0379859e",
   "metadata": {},
   "outputs": [
    {
     "name": "stdout",
     "output_type": "stream",
     "text": [
      "performance parameters of strategy_e : \n",
      "$Max_Drawdown\n",
      "[1] 0.5031362\n",
      "\n",
      "$Cumulative_Return\n",
      "[1] 306.3768\n",
      "\n",
      "$Annualized_Return\n",
      "[1] 6.984772\n",
      "\n",
      "$Annualized_Risk\n",
      "[1] 0.1079757\n",
      "\n",
      "$Sharpe_Ratio\n",
      "[1] 0.646884\n",
      "\n"
     ]
    }
   ],
   "source": [
    "#  performance measures:\n",
    "#calculating the performance parameters\n",
    "performance_params_e <- calculate_performance_parameters(strategy_returns_e,risk_free_rate)\n",
    "\n",
    "# Printing the results\n",
    "cat(\"performance parameters of strategy_e :\", \"\\n\")\n",
    "print(performance_params_e)"
   ]
  },
  {
   "cell_type": "code",
   "execution_count": 37,
   "id": "9e0c921d",
   "metadata": {},
   "outputs": [
    {
     "data": {
      "image/png": "[encoded data removed]",
      "text/plain": [
       "plot without title"
      ]
     },
     "metadata": {},
     "output_type": "display_data"
    },
    {
     "data": {
      "text/html": [
       "-0.503136160345166"
      ],
      "text/latex": [
       "-0.503136160345166"
      ],
      "text/markdown": [
       "-0.503136160345166"
      ],
      "text/plain": [
       "[1] -0.5031362"
      ]
     },
     "metadata": {},
     "output_type": "display_data"
    },
    {
     "data": {
      "image/png": "[encoded data removed]",
      "text/plain": [
       "Plot with title \"Monthly Returns of strategy_e\""
      ]
     },
     "metadata": {},
     "output_type": "display_data"
    },
    {
     "data": {
      "image/png": "[encoded data removed]",
      "text/plain": [
       "Plot with title \"Monthly Drawdown for Strategy_e\""
      ]
     },
     "metadata": {},
     "output_type": "display_data"
    }
   ],
   "source": [
    "# plotting the commulative returns, monthly returns and drawdowns for strategy_e\n",
    "\n",
    "strategy_returns_e[is.na(strategy_returns_e)] <- 0    #replacing initial NA by 0 to avoid plotting errors\n",
    "#1.commulative returns\n",
    "cumulative_returns_ee <- cumprod(1 + strategy_returns_e)\n",
    "plot(cumulative_returns_ee, type = \"l\", col = \"blue\", xlab = \"Date\", ylab = \"Value\", main = \"Commulative Returns of strategy_e\")\n",
    "\n",
    "#2.monthly returns\n",
    "barplot(strategy_returns_e, col = \"blue\", \n",
    "        xlab = \"Month\", ylab = \"Monthly Returns\", \n",
    "        main = \"Monthly Returns of strategy_e\")\n",
    "\n",
    "#3. Calculating maximum cumulative returns up to each month\n",
    "max_cumulative_returns_ee <- cummax(cumulative_returns_ee)\n",
    "\n",
    "# Calculating drawdown as the difference between cumulative returns and max cumulative returns\n",
    "drawdown_ee <- cumulative_returns_ee - max_cumulative_returns_ee\n",
    "max_drawdown_ee <- min(drawdown_ee)\n",
    "max_drawdown_ee\n",
    "\n",
    "# Creating a sequence of months for plotting\n",
    "months <- seq(from = 1, to = length(drawdown_ee), by = 1)\n",
    "\n",
    "# Plotting the drawdown for strategy_b\n",
    "plot(months, drawdown_ee, type = \"l\", col = \"blue\",\n",
    "     xlab = \"Month\", ylab = \"Drawdown\",\n",
    "     main = \"Monthly Drawdown for Strategy_e\", xaxt = \"n\")"
   ]
  },
  {
   "cell_type": "markdown",
   "id": "0b52f412",
   "metadata": {},
   "source": [
    "TABLE for comparison among different strategies:"
   ]
  },
  {
   "cell_type": "code",
   "execution_count": 38,
   "id": "7571bad4",
   "metadata": {},
   "outputs": [],
   "source": [
    "strategy_comparison <- data.frame(\n",
    "  Strategy_a = unlist(performance_params_a),\n",
    "  Strategy_b = unlist(performance_params_b),\n",
    "  Strategy_c = unlist(performance_params_c),\n",
    "  Strategy_d_benchmark = unlist(performance_params_d),\n",
    "  Strategy_e = unlist(performance_params_e))"
   ]
  },
  {
   "cell_type": "code",
   "execution_count": 39,
   "id": "57e991ed",
   "metadata": {},
   "outputs": [
    {
     "name": "stdout",
     "output_type": "stream",
     "text": [
      "Comparison table :  \n"
     ]
    },
    {
     "data": {
      "text/html": [
       "<table>\n",
       "<thead><tr><th></th><th scope=col>Strategy_a</th><th scope=col>Strategy_b</th><th scope=col>Strategy_c</th><th scope=col>Strategy_d_benchmark</th><th scope=col>Strategy_e</th></tr></thead>\n",
       "<tbody>\n",
       "\t<tr><th scope=row>Max_Drawdown</th><td>  0.19411058</td><td>  0.18666255</td><td>  0.5121146 </td><td>  0.8239319 </td><td>  0.5031362 </td></tr>\n",
       "\t<tr><th scope=row>Cumulative_Return</th><td>278.01091032</td><td>380.55862798</td><td>218.9599219 </td><td>322.9007837 </td><td>306.3768253 </td></tr>\n",
       "\t<tr><th scope=row>Annualized_Return</th><td>  6.35982115</td><td>  8.39276524</td><td>  4.8393936 </td><td>  7.2862699 </td><td>  6.9847718 </td></tr>\n",
       "\t<tr><th scope=row>Annualized_Risk</th><td>  0.09526185</td><td>  0.08248844</td><td>  0.1178937 </td><td>  0.1634882 </td><td>  0.1079757 </td></tr>\n",
       "\t<tr><th scope=row>Sharpe_Ratio</th><td>  0.66761470</td><td>  1.01744748</td><td>  0.4104880 </td><td>  0.4456757 </td><td>  0.6468840 </td></tr>\n",
       "</tbody>\n",
       "</table>\n"
      ],
      "text/latex": [
       "\\begin{tabular}{r|lllll}\n",
       "  & Strategy\\_a & Strategy\\_b & Strategy\\_c & Strategy\\_d\\_benchmark & Strategy\\_e\\\\\n",
       "\\hline\n",
       "\tMax\\_Drawdown &   0.19411058 &   0.18666255 &   0.5121146  &   0.8239319  &   0.5031362 \\\\\n",
       "\tCumulative\\_Return & 278.01091032 & 380.55862798 & 218.9599219  & 322.9007837  & 306.3768253 \\\\\n",
       "\tAnnualized\\_Return &   6.35982115 &   8.39276524 &   4.8393936  &   7.2862699  &   6.9847718 \\\\\n",
       "\tAnnualized\\_Risk &   0.09526185 &   0.08248844 &   0.1178937  &   0.1634882  &   0.1079757 \\\\\n",
       "\tSharpe\\_Ratio &   0.66761470 &   1.01744748 &   0.4104880  &   0.4456757  &   0.6468840 \\\\\n",
       "\\end{tabular}\n"
      ],
      "text/markdown": [
       "\n",
       "| <!--/--> | Strategy_a | Strategy_b | Strategy_c | Strategy_d_benchmark | Strategy_e |\n",
       "|---|---|---|---|---|---|\n",
       "| Max_Drawdown |   0.19411058 |   0.18666255 |   0.5121146  |   0.8239319  |   0.5031362  |\n",
       "| Cumulative_Return | 278.01091032 | 380.55862798 | 218.9599219  | 322.9007837  | 306.3768253  |\n",
       "| Annualized_Return |   6.35982115 |   8.39276524 |   4.8393936  |   7.2862699  |   6.9847718  |\n",
       "| Annualized_Risk |   0.09526185 |   0.08248844 |   0.1178937  |   0.1634882  |   0.1079757  |\n",
       "| Sharpe_Ratio |   0.66761470 |   1.01744748 |   0.4104880  |   0.4456757  |   0.6468840  |\n",
       "\n"
      ],
      "text/plain": [
       "                  Strategy_a   Strategy_b   Strategy_c  Strategy_d_benchmark\n",
       "Max_Drawdown        0.19411058   0.18666255   0.5121146   0.8239319         \n",
       "Cumulative_Return 278.01091032 380.55862798 218.9599219 322.9007837         \n",
       "Annualized_Return   6.35982115   8.39276524   4.8393936   7.2862699         \n",
       "Annualized_Risk     0.09526185   0.08248844   0.1178937   0.1634882         \n",
       "Sharpe_Ratio        0.66761470   1.01744748   0.4104880   0.4456757         \n",
       "                  Strategy_e \n",
       "Max_Drawdown        0.5031362\n",
       "Cumulative_Return 306.3768253\n",
       "Annualized_Return   6.9847718\n",
       "Annualized_Risk     0.1079757\n",
       "Sharpe_Ratio        0.6468840"
      ]
     },
     "metadata": {},
     "output_type": "display_data"
    }
   ],
   "source": [
    "cat(\"Comparison table : \", \"\\n\")\n",
    "strategy_comparison"
   ]
  },
  {
   "cell_type": "code",
   "execution_count": 40,
   "id": "0126b49f",
   "metadata": {},
   "outputs": [],
   "source": [
    "# We can see that we got the maximum sharpe ratio for strategy_b whivh was formulated in Notebook1 after visually\n",
    "# analysing the trends of all 6 time series. We can see that strategy_b is best in every aspect which is quite surprising."
   ]
  },
  {
   "cell_type": "code",
   "execution_count": null,
   "id": "d98b1cbb",
   "metadata": {},
   "outputs": [],
   "source": []
  }
 ],
 "metadata": {
  "kernelspec": {
   "display_name": "R",
   "language": "R",
   "name": "ir"
  },
  "language_info": {
   "codemirror_mode": "r",
   "file_extension": ".r",
   "mimetype": "text/x-r-source",
   "name": "R",
   "pygments_lexer": "r",
   "version": "3.6.1"
  }
 },
 "nbformat": 4,
 "nbformat_minor": 5
}
